{
 "cells": [
  {
   "cell_type": "code",
   "execution_count": 1,
   "metadata": {},
   "outputs": [],
   "source": [
    "import pickle\n",
    "\n",
    "with open('C:/Users/LG/bigcontest/dataset/CJ_DATA.bin', 'rb') as f:\n",
    "    cj_data = pickle.load(f) \n",
    "with open('C:/Users/LG/bigcontest/dataset/GS_DATA.bin', 'rb') as f:\n",
    "    gs_data = pickle.load(f) \n",
    "with open('C:/Users/LG/bigcontest/dataset/SK_DATA.bin', 'rb') as f:\n",
    "    sk_data = pickle.load(f) \n",
    "with open('C:/Users/LG/bigcontest/dataset/SH_DATA.bin', 'rb') as f:\n",
    "    sh_data = pickle.load(f) \n",
    "with open('C:/Users/LG/bigcontest/dataset/WS_DATA.bin', 'rb') as f:\n",
    "    ws_data = pickle.load(f) "
   ]
  },
  {
   "cell_type": "code",
   "execution_count": 2,
   "metadata": {},
   "outputs": [],
   "source": [
    "# 한글 깨짐 현상을 해결\n",
    "import matplotlib\n",
    "matplotlib.rcParams['font.family'] = 'Malgun Gothic'\n",
    "matplotlib.rcParams['axes.unicode_minus'] = False"
   ]
  },
  {
   "cell_type": "code",
   "execution_count": 3,
   "metadata": {},
   "outputs": [],
   "source": [
    "import numpy as np"
   ]
  },
  {
   "cell_type": "code",
   "execution_count": 173,
   "metadata": {},
   "outputs": [
    {
     "data": {
      "text/plain": [
       "dict_keys(['WS_MENTION', 'WS_SENTIMENT', 'WS_TOPIC', 'COL_CHANGE_DICT', 'INDUSTRY_CODE_DICT', 'GEO_CODE_DICT'])"
      ]
     },
     "execution_count": 173,
     "metadata": {},
     "output_type": "execute_result"
    }
   ],
   "source": [
    "ws_data.keys()"
   ]
  },
  {
   "cell_type": "markdown",
   "metadata": {},
   "source": [
    "## 신한 데이터"
   ]
  },
  {
   "cell_type": "code",
   "execution_count": 5,
   "metadata": {},
   "outputs": [
    {
     "data": {
      "text/plain": [
       "dict_keys(['SH_RESIDENT', 'SH_FOREIGN', 'INDUSTRY_CODE_DICT', 'COL_CHANGE_DICT', 'GEO_CODE_DICT'])"
      ]
     },
     "execution_count": 5,
     "metadata": {},
     "output_type": "execute_result"
    }
   ],
   "source": [
    "sh_data.keys()"
   ]
  },
  {
   "cell_type": "code",
   "execution_count": 177,
   "metadata": {},
   "outputs": [],
   "source": [
    "resident = sh_data['SH_RESIDENT']\n",
    "foreign = sh_data['SH_FOREIGN']"
   ]
  },
  {
   "cell_type": "markdown",
   "metadata": {},
   "source": [
    "### 연도별 나이, 성별에 따른 사용금액"
   ]
  },
  {
   "cell_type": "code",
   "execution_count": 7,
   "metadata": {
    "collapsed": true
   },
   "outputs": [
    {
     "data": {
      "text/html": [
       "<div>\n",
       "<style scoped>\n",
       "    .dataframe tbody tr th:only-of-type {\n",
       "        vertical-align: middle;\n",
       "    }\n",
       "\n",
       "    .dataframe tbody tr th {\n",
       "        vertical-align: top;\n",
       "    }\n",
       "\n",
       "    .dataframe thead th {\n",
       "        text-align: right;\n",
       "    }\n",
       "</style>\n",
       "<table border=\"1\" class=\"dataframe\">\n",
       "  <thead>\n",
       "    <tr style=\"text-align: right;\">\n",
       "      <th></th>\n",
       "      <th>DATE</th>\n",
       "      <th>YEAR</th>\n",
       "      <th>MONTH</th>\n",
       "      <th>DAY</th>\n",
       "      <th>GU_CODE</th>\n",
       "      <th>DONG_CODE</th>\n",
       "      <th>INDUSTRY_CODE</th>\n",
       "      <th>SEX</th>\n",
       "      <th>AGE</th>\n",
       "      <th>USE_CNT</th>\n",
       "      <th>USE_AMT</th>\n",
       "      <th>SI_CODE</th>\n",
       "      <th>TOTAL_CODE</th>\n",
       "    </tr>\n",
       "  </thead>\n",
       "  <tbody>\n",
       "    <tr>\n",
       "      <th>0</th>\n",
       "      <td>2019-02-01</td>\n",
       "      <td>2019</td>\n",
       "      <td>2</td>\n",
       "      <td>1</td>\n",
       "      <td>11</td>\n",
       "      <td>517</td>\n",
       "      <td>10</td>\n",
       "      <td>F</td>\n",
       "      <td>25</td>\n",
       "      <td>11</td>\n",
       "      <td>595</td>\n",
       "      <td>27</td>\n",
       "      <td>2711517</td>\n",
       "    </tr>\n",
       "    <tr>\n",
       "      <th>1</th>\n",
       "      <td>2019-02-01</td>\n",
       "      <td>2019</td>\n",
       "      <td>2</td>\n",
       "      <td>1</td>\n",
       "      <td>11</td>\n",
       "      <td>517</td>\n",
       "      <td>10</td>\n",
       "      <td>F</td>\n",
       "      <td>50</td>\n",
       "      <td>5</td>\n",
       "      <td>243</td>\n",
       "      <td>27</td>\n",
       "      <td>2711517</td>\n",
       "    </tr>\n",
       "    <tr>\n",
       "      <th>2</th>\n",
       "      <td>2019-02-01</td>\n",
       "      <td>2019</td>\n",
       "      <td>2</td>\n",
       "      <td>1</td>\n",
       "      <td>11</td>\n",
       "      <td>517</td>\n",
       "      <td>10</td>\n",
       "      <td>F</td>\n",
       "      <td>55</td>\n",
       "      <td>5</td>\n",
       "      <td>27</td>\n",
       "      <td>27</td>\n",
       "      <td>2711517</td>\n",
       "    </tr>\n",
       "    <tr>\n",
       "      <th>3</th>\n",
       "      <td>2019-02-01</td>\n",
       "      <td>2019</td>\n",
       "      <td>2</td>\n",
       "      <td>1</td>\n",
       "      <td>11</td>\n",
       "      <td>517</td>\n",
       "      <td>10</td>\n",
       "      <td>M</td>\n",
       "      <td>20</td>\n",
       "      <td>11</td>\n",
       "      <td>243</td>\n",
       "      <td>27</td>\n",
       "      <td>2711517</td>\n",
       "    </tr>\n",
       "    <tr>\n",
       "      <th>4</th>\n",
       "      <td>2019-02-01</td>\n",
       "      <td>2019</td>\n",
       "      <td>2</td>\n",
       "      <td>1</td>\n",
       "      <td>11</td>\n",
       "      <td>517</td>\n",
       "      <td>10</td>\n",
       "      <td>M</td>\n",
       "      <td>25</td>\n",
       "      <td>11</td>\n",
       "      <td>433</td>\n",
       "      <td>27</td>\n",
       "      <td>2711517</td>\n",
       "    </tr>\n",
       "    <tr>\n",
       "      <th>...</th>\n",
       "      <td>...</td>\n",
       "      <td>...</td>\n",
       "      <td>...</td>\n",
       "      <td>...</td>\n",
       "      <td>...</td>\n",
       "      <td>...</td>\n",
       "      <td>...</td>\n",
       "      <td>...</td>\n",
       "      <td>...</td>\n",
       "      <td>...</td>\n",
       "      <td>...</td>\n",
       "      <td>...</td>\n",
       "      <td>...</td>\n",
       "    </tr>\n",
       "    <tr>\n",
       "      <th>1310601</th>\n",
       "      <td>2019-05-31</td>\n",
       "      <td>2019</td>\n",
       "      <td>5</td>\n",
       "      <td>31</td>\n",
       "      <td>35</td>\n",
       "      <td>720</td>\n",
       "      <td>81</td>\n",
       "      <td>M</td>\n",
       "      <td>45</td>\n",
       "      <td>9</td>\n",
       "      <td>48</td>\n",
       "      <td>11</td>\n",
       "      <td>1135720</td>\n",
       "    </tr>\n",
       "    <tr>\n",
       "      <th>1310602</th>\n",
       "      <td>2019-05-31</td>\n",
       "      <td>2019</td>\n",
       "      <td>5</td>\n",
       "      <td>31</td>\n",
       "      <td>35</td>\n",
       "      <td>720</td>\n",
       "      <td>81</td>\n",
       "      <td>M</td>\n",
       "      <td>50</td>\n",
       "      <td>13</td>\n",
       "      <td>72</td>\n",
       "      <td>11</td>\n",
       "      <td>1135720</td>\n",
       "    </tr>\n",
       "    <tr>\n",
       "      <th>1310603</th>\n",
       "      <td>2019-05-31</td>\n",
       "      <td>2019</td>\n",
       "      <td>5</td>\n",
       "      <td>31</td>\n",
       "      <td>35</td>\n",
       "      <td>720</td>\n",
       "      <td>81</td>\n",
       "      <td>M</td>\n",
       "      <td>60</td>\n",
       "      <td>9</td>\n",
       "      <td>99</td>\n",
       "      <td>11</td>\n",
       "      <td>1135720</td>\n",
       "    </tr>\n",
       "    <tr>\n",
       "      <th>1310604</th>\n",
       "      <td>2019-05-31</td>\n",
       "      <td>2019</td>\n",
       "      <td>5</td>\n",
       "      <td>31</td>\n",
       "      <td>35</td>\n",
       "      <td>720</td>\n",
       "      <td>81</td>\n",
       "      <td>M</td>\n",
       "      <td>65</td>\n",
       "      <td>9</td>\n",
       "      <td>133</td>\n",
       "      <td>11</td>\n",
       "      <td>1135720</td>\n",
       "    </tr>\n",
       "    <tr>\n",
       "      <th>1310605</th>\n",
       "      <td>2019-05-31</td>\n",
       "      <td>2019</td>\n",
       "      <td>5</td>\n",
       "      <td>31</td>\n",
       "      <td>35</td>\n",
       "      <td>720</td>\n",
       "      <td>92</td>\n",
       "      <td>F</td>\n",
       "      <td>50</td>\n",
       "      <td>4</td>\n",
       "      <td>141</td>\n",
       "      <td>11</td>\n",
       "      <td>1135720</td>\n",
       "    </tr>\n",
       "  </tbody>\n",
       "</table>\n",
       "<p>1310606 rows × 13 columns</p>\n",
       "</div>"
      ],
      "text/plain": [
       "              DATE  YEAR  MONTH  DAY GU_CODE DONG_CODE INDUSTRY_CODE SEX AGE  \\\n",
       "0       2019-02-01  2019      2    1      11       517            10   F  25   \n",
       "1       2019-02-01  2019      2    1      11       517            10   F  50   \n",
       "2       2019-02-01  2019      2    1      11       517            10   F  55   \n",
       "3       2019-02-01  2019      2    1      11       517            10   M  20   \n",
       "4       2019-02-01  2019      2    1      11       517            10   M  25   \n",
       "...            ...   ...    ...  ...     ...       ...           ...  ..  ..   \n",
       "1310601 2019-05-31  2019      5   31      35       720            81   M  45   \n",
       "1310602 2019-05-31  2019      5   31      35       720            81   M  50   \n",
       "1310603 2019-05-31  2019      5   31      35       720            81   M  60   \n",
       "1310604 2019-05-31  2019      5   31      35       720            81   M  65   \n",
       "1310605 2019-05-31  2019      5   31      35       720            92   F  50   \n",
       "\n",
       "         USE_CNT  USE_AMT SI_CODE TOTAL_CODE  \n",
       "0             11      595      27    2711517  \n",
       "1              5      243      27    2711517  \n",
       "2              5       27      27    2711517  \n",
       "3             11      243      27    2711517  \n",
       "4             11      433      27    2711517  \n",
       "...          ...      ...     ...        ...  \n",
       "1310601        9       48      11    1135720  \n",
       "1310602       13       72      11    1135720  \n",
       "1310603        9       99      11    1135720  \n",
       "1310604        9      133      11    1135720  \n",
       "1310605        4      141      11    1135720  \n",
       "\n",
       "[1310606 rows x 13 columns]"
      ]
     },
     "execution_count": 7,
     "metadata": {},
     "output_type": "execute_result"
    }
   ],
   "source": [
    "year_2019 = resident.loc[resident['YEAR']==2019]\n",
    "year_2020 = resident.loc[resident['YEAR']==2020]\n",
    "year_2019"
   ]
  },
  {
   "cell_type": "code",
   "execution_count": 8,
   "metadata": {
    "collapsed": true
   },
   "outputs": [
    {
     "data": {
      "text/plain": [
       "AGE  SEX\n",
       "20   F      129211688\n",
       "     M       81043488\n",
       "25   F      208602912\n",
       "     M      198698297\n",
       "30   F      197681198\n",
       "     M      196439126\n",
       "35   F      215251802\n",
       "     M      222271236\n",
       "40   F      211829728\n",
       "     M      205826512\n",
       "45   F      254723083\n",
       "     M      237216774\n",
       "50   F      216990951\n",
       "     M      208939360\n",
       "55   F      166356823\n",
       "     M      159109105\n",
       "60   F      119337506\n",
       "     M      113268763\n",
       "65   F      116674312\n",
       "     M      149857455\n",
       "Name: USE_AMT, dtype: int64"
      ]
     },
     "execution_count": 8,
     "metadata": {},
     "output_type": "execute_result"
    }
   ],
   "source": [
    "age_sex_to_amt_2019 = year_2019.groupby(['AGE','SEX'])['USE_AMT'].sum()\n",
    "age_sex_to_amt_2020 = year_2020.groupby(['AGE','SEX'])['USE_AMT'].sum()\n",
    "age_sex_to_amt_2019"
   ]
  },
  {
   "cell_type": "code",
   "execution_count": 9,
   "metadata": {
    "collapsed": true
   },
   "outputs": [
    {
     "data": {
      "text/plain": [
       "['20F',\n",
       " '20M',\n",
       " '25F',\n",
       " '25M',\n",
       " '30F',\n",
       " '30M',\n",
       " '35F',\n",
       " '35M',\n",
       " '40F',\n",
       " '40M',\n",
       " '45F',\n",
       " '45M',\n",
       " '50F',\n",
       " '50M',\n",
       " '55F',\n",
       " '55M',\n",
       " '60F',\n",
       " '60M',\n",
       " '65F',\n",
       " '65M']"
      ]
     },
     "execution_count": 9,
     "metadata": {},
     "output_type": "execute_result"
    }
   ],
   "source": [
    "label_2019 = []\n",
    "for i in range(len(age_sex_to_amt_2019)):\n",
    "    label_2019.append(str(age_sex_to_amt_2019.index[i][0])+age_sex_to_amt_2019.index[i][1])\n",
    "label_2020 = []\n",
    "for i in range(len(age_sex_to_amt_2020)):\n",
    "    label_2020.append(str(age_sex_to_amt_2020.index[i][0])+age_sex_to_amt_2020.index[i][1])"
   ]
  },
  {
   "cell_type": "code",
   "execution_count": 10,
   "metadata": {
    "collapsed": true
   },
   "outputs": [
    {
     "data": {
      "image/png": "[encoded data removed]",
      "text/plain": [
       "<Figure size 1440x504 with 1 Axes>"
      ]
     },
     "metadata": {
      "needs_background": "light"
     },
     "output_type": "display_data"
    }
   ],
   "source": [
    "age_sex_to_amt = resident.groupby(['AGE','SEX'])['USE_AMT'].sum()\n",
    "\n",
    "\n",
    "# 그래프 그리기\n",
    "index = np.arange(len(label_2019))\n",
    "\n",
    "plt.figure(figsize = (20,7))\n",
    "\n",
    "plt.subplot(1,1,1)\n",
    "plt.bar(index, age_sex_to_amt_2019,label='2019')\n",
    "plt.bar(index, age_sex_to_amt_2020,label='2020')\n",
    "plt.xticks(index, label_2019)\n",
    "plt.xlabel('AGE_SEX', fontsize = 15)\n",
    "plt.ylabel('USE_AMT', fontsize = 15)\n",
    "plt.title(\"AGE_SEX - USE_AMT\", fontsize = 15)\n",
    "plt.legend()\n",
    "\n",
    "plt.show()"
   ]
  },
  {
   "cell_type": "markdown",
   "metadata": {},
   "source": [
    "### 연도별 시에 따른 나이,성별 사용금액"
   ]
  },
  {
   "cell_type": "code",
   "execution_count": 33,
   "metadata": {},
   "outputs": [],
   "source": [
    "total_2019 = resident.loc[resident['YEAR']==2019]\n",
    "seoul_2019=total_2019.loc[total_2019['SI_CODE']=='11']\n",
    "daegu_2019=total_2019.loc[total_2019['SI_CODE']=='27']\n",
    "\n",
    "total_2020 = resident.loc[resident['YEAR']==2020]\n",
    "seoul_2020=total_2020.loc[total_2020['SI_CODE']=='11']\n",
    "daegu_2020=total_2020.loc[total_2020['SI_CODE']=='27']"
   ]
  },
  {
   "cell_type": "code",
   "execution_count": 34,
   "metadata": {
    "collapsed": true
   },
   "outputs": [
    {
     "data": {
      "text/html": [
       "<div>\n",
       "<style scoped>\n",
       "    .dataframe tbody tr th:only-of-type {\n",
       "        vertical-align: middle;\n",
       "    }\n",
       "\n",
       "    .dataframe tbody tr th {\n",
       "        vertical-align: top;\n",
       "    }\n",
       "\n",
       "    .dataframe thead th {\n",
       "        text-align: right;\n",
       "    }\n",
       "</style>\n",
       "<table border=\"1\" class=\"dataframe\">\n",
       "  <thead>\n",
       "    <tr style=\"text-align: right;\">\n",
       "      <th></th>\n",
       "      <th>DATE</th>\n",
       "      <th>YEAR</th>\n",
       "      <th>MONTH</th>\n",
       "      <th>DAY</th>\n",
       "      <th>GU_CODE</th>\n",
       "      <th>DONG_CODE</th>\n",
       "      <th>INDUSTRY_CODE</th>\n",
       "      <th>SEX</th>\n",
       "      <th>AGE</th>\n",
       "      <th>USE_CNT</th>\n",
       "      <th>USE_AMT</th>\n",
       "      <th>SI_CODE</th>\n",
       "      <th>TOTAL_CODE</th>\n",
       "    </tr>\n",
       "  </thead>\n",
       "  <tbody>\n",
       "    <tr>\n",
       "      <th>1312322</th>\n",
       "      <td>2020-02-01</td>\n",
       "      <td>2020</td>\n",
       "      <td>2</td>\n",
       "      <td>1</td>\n",
       "      <td>14</td>\n",
       "      <td>520</td>\n",
       "      <td>10</td>\n",
       "      <td>F</td>\n",
       "      <td>20</td>\n",
       "      <td>27</td>\n",
       "      <td>4509</td>\n",
       "      <td>11</td>\n",
       "      <td>1114520</td>\n",
       "    </tr>\n",
       "    <tr>\n",
       "      <th>1312323</th>\n",
       "      <td>2020-02-01</td>\n",
       "      <td>2020</td>\n",
       "      <td>2</td>\n",
       "      <td>1</td>\n",
       "      <td>14</td>\n",
       "      <td>520</td>\n",
       "      <td>10</td>\n",
       "      <td>F</td>\n",
       "      <td>25</td>\n",
       "      <td>62</td>\n",
       "      <td>5963</td>\n",
       "      <td>11</td>\n",
       "      <td>1114520</td>\n",
       "    </tr>\n",
       "    <tr>\n",
       "      <th>1312324</th>\n",
       "      <td>2020-02-01</td>\n",
       "      <td>2020</td>\n",
       "      <td>2</td>\n",
       "      <td>1</td>\n",
       "      <td>14</td>\n",
       "      <td>520</td>\n",
       "      <td>10</td>\n",
       "      <td>F</td>\n",
       "      <td>30</td>\n",
       "      <td>40</td>\n",
       "      <td>4229</td>\n",
       "      <td>11</td>\n",
       "      <td>1114520</td>\n",
       "    </tr>\n",
       "    <tr>\n",
       "      <th>1312325</th>\n",
       "      <td>2020-02-01</td>\n",
       "      <td>2020</td>\n",
       "      <td>2</td>\n",
       "      <td>1</td>\n",
       "      <td>14</td>\n",
       "      <td>520</td>\n",
       "      <td>10</td>\n",
       "      <td>F</td>\n",
       "      <td>35</td>\n",
       "      <td>53</td>\n",
       "      <td>9128</td>\n",
       "      <td>11</td>\n",
       "      <td>1114520</td>\n",
       "    </tr>\n",
       "    <tr>\n",
       "      <th>1312326</th>\n",
       "      <td>2020-02-01</td>\n",
       "      <td>2020</td>\n",
       "      <td>2</td>\n",
       "      <td>1</td>\n",
       "      <td>14</td>\n",
       "      <td>520</td>\n",
       "      <td>10</td>\n",
       "      <td>F</td>\n",
       "      <td>40</td>\n",
       "      <td>18</td>\n",
       "      <td>9157</td>\n",
       "      <td>11</td>\n",
       "      <td>1114520</td>\n",
       "    </tr>\n",
       "    <tr>\n",
       "      <th>...</th>\n",
       "      <td>...</td>\n",
       "      <td>...</td>\n",
       "      <td>...</td>\n",
       "      <td>...</td>\n",
       "      <td>...</td>\n",
       "      <td>...</td>\n",
       "      <td>...</td>\n",
       "      <td>...</td>\n",
       "      <td>...</td>\n",
       "      <td>...</td>\n",
       "      <td>...</td>\n",
       "      <td>...</td>\n",
       "      <td>...</td>\n",
       "    </tr>\n",
       "    <tr>\n",
       "      <th>2537748</th>\n",
       "      <td>2020-05-31</td>\n",
       "      <td>2020</td>\n",
       "      <td>5</td>\n",
       "      <td>31</td>\n",
       "      <td>35</td>\n",
       "      <td>720</td>\n",
       "      <td>81</td>\n",
       "      <td>M</td>\n",
       "      <td>45</td>\n",
       "      <td>19</td>\n",
       "      <td>127</td>\n",
       "      <td>11</td>\n",
       "      <td>1135720</td>\n",
       "    </tr>\n",
       "    <tr>\n",
       "      <th>2537749</th>\n",
       "      <td>2020-05-31</td>\n",
       "      <td>2020</td>\n",
       "      <td>5</td>\n",
       "      <td>31</td>\n",
       "      <td>35</td>\n",
       "      <td>720</td>\n",
       "      <td>81</td>\n",
       "      <td>M</td>\n",
       "      <td>50</td>\n",
       "      <td>33</td>\n",
       "      <td>211</td>\n",
       "      <td>11</td>\n",
       "      <td>1135720</td>\n",
       "    </tr>\n",
       "    <tr>\n",
       "      <th>2537750</th>\n",
       "      <td>2020-05-31</td>\n",
       "      <td>2020</td>\n",
       "      <td>5</td>\n",
       "      <td>31</td>\n",
       "      <td>35</td>\n",
       "      <td>720</td>\n",
       "      <td>81</td>\n",
       "      <td>M</td>\n",
       "      <td>55</td>\n",
       "      <td>9</td>\n",
       "      <td>61</td>\n",
       "      <td>11</td>\n",
       "      <td>1135720</td>\n",
       "    </tr>\n",
       "    <tr>\n",
       "      <th>2537751</th>\n",
       "      <td>2020-05-31</td>\n",
       "      <td>2020</td>\n",
       "      <td>5</td>\n",
       "      <td>31</td>\n",
       "      <td>35</td>\n",
       "      <td>720</td>\n",
       "      <td>81</td>\n",
       "      <td>M</td>\n",
       "      <td>60</td>\n",
       "      <td>19</td>\n",
       "      <td>194</td>\n",
       "      <td>11</td>\n",
       "      <td>1135720</td>\n",
       "    </tr>\n",
       "    <tr>\n",
       "      <th>2537752</th>\n",
       "      <td>2020-05-31</td>\n",
       "      <td>2020</td>\n",
       "      <td>5</td>\n",
       "      <td>31</td>\n",
       "      <td>35</td>\n",
       "      <td>720</td>\n",
       "      <td>81</td>\n",
       "      <td>M</td>\n",
       "      <td>65</td>\n",
       "      <td>5</td>\n",
       "      <td>29</td>\n",
       "      <td>11</td>\n",
       "      <td>1135720</td>\n",
       "    </tr>\n",
       "  </tbody>\n",
       "</table>\n",
       "<p>699005 rows × 13 columns</p>\n",
       "</div>"
      ],
      "text/plain": [
       "              DATE  YEAR  MONTH  DAY GU_CODE DONG_CODE INDUSTRY_CODE SEX AGE  \\\n",
       "1312322 2020-02-01  2020      2    1      14       520            10   F  20   \n",
       "1312323 2020-02-01  2020      2    1      14       520            10   F  25   \n",
       "1312324 2020-02-01  2020      2    1      14       520            10   F  30   \n",
       "1312325 2020-02-01  2020      2    1      14       520            10   F  35   \n",
       "1312326 2020-02-01  2020      2    1      14       520            10   F  40   \n",
       "...            ...   ...    ...  ...     ...       ...           ...  ..  ..   \n",
       "2537748 2020-05-31  2020      5   31      35       720            81   M  45   \n",
       "2537749 2020-05-31  2020      5   31      35       720            81   M  50   \n",
       "2537750 2020-05-31  2020      5   31      35       720            81   M  55   \n",
       "2537751 2020-05-31  2020      5   31      35       720            81   M  60   \n",
       "2537752 2020-05-31  2020      5   31      35       720            81   M  65   \n",
       "\n",
       "         USE_CNT  USE_AMT SI_CODE TOTAL_CODE  \n",
       "1312322       27     4509      11    1114520  \n",
       "1312323       62     5963      11    1114520  \n",
       "1312324       40     4229      11    1114520  \n",
       "1312325       53     9128      11    1114520  \n",
       "1312326       18     9157      11    1114520  \n",
       "...          ...      ...     ...        ...  \n",
       "2537748       19      127      11    1135720  \n",
       "2537749       33      211      11    1135720  \n",
       "2537750        9       61      11    1135720  \n",
       "2537751       19      194      11    1135720  \n",
       "2537752        5       29      11    1135720  \n",
       "\n",
       "[699005 rows x 13 columns]"
      ]
     },
     "execution_count": 34,
     "metadata": {},
     "output_type": "execute_result"
    }
   ],
   "source": [
    "seoul_2020"
   ]
  },
  {
   "cell_type": "code",
   "execution_count": 38,
   "metadata": {},
   "outputs": [],
   "source": [
    "seoul_to_amt_2019 = seoul_2019.groupby(['AGE','SEX'])['USE_AMT'].sum()\n",
    "daegu_to_amt_2019 = daegu_2019.groupby(['AGE','SEX'])['USE_AMT'].sum()\n",
    "\n",
    "seoul_to_amt_2020 = seoul_2020.groupby(['AGE','SEX'])['USE_AMT'].sum()\n",
    "daegu_to_amt_2020 = daegu_2020.groupby(['AGE','SEX'])['USE_AMT'].sum()"
   ]
  },
  {
   "cell_type": "code",
   "execution_count": 39,
   "metadata": {},
   "outputs": [],
   "source": [
    "label = []\n",
    "for i in range(len(seoul_to_amt_2019)):\n",
    "    label.append(str(seoul_to_amt_2019.index[i][0])+seoul_to_amt_2019.index[i][1])"
   ]
  },
  {
   "cell_type": "code",
   "execution_count": 40,
   "metadata": {
    "collapsed": true
   },
   "outputs": [
    {
     "data": {
      "image/png": "[encoded data removed]",
      "text/plain": [
       "<Figure size 1440x504 with 1 Axes>"
      ]
     },
     "metadata": {
      "needs_background": "light"
     },
     "output_type": "display_data"
    }
   ],
   "source": [
    "index = np.arange(len(label))\n",
    "\n",
    "plt.figure(figsize = (20,7))\n",
    "\n",
    "plt.subplot(1,1,1)\n",
    "plt.plot(index, seoul_to_amt_2019,label='seoul_2019')\n",
    "plt.plot(index, daegu_to_amt_2019,label='dageu_2019')\n",
    "plt.plot(index, seoul_to_amt_2020,label='seoul_2019')\n",
    "plt.plot(index, daegu_to_amt_2020,label='daegu_2020')\n",
    "\n",
    "plt.xticks(index, label)\n",
    "plt.xlabel('AGE_SEX', fontsize = 15)\n",
    "plt.ylabel('USE_AMT', fontsize = 15)\n",
    "plt.title(\"AGE_SEX - USE_AMT\", fontsize = 15)\n",
    "plt.legend()\n",
    "\n",
    "plt.show()"
   ]
  },
  {
   "cell_type": "code",
   "execution_count": 86,
   "metadata": {
    "scrolled": true
   },
   "outputs": [
    {
     "data": {
      "text/plain": [
       "['대만', '독일', '미국', '미주', '영국', ..., '네덜란드', '정보없음', '카자흐스탄', '중동/아프리카', '오스트레일리아']\n",
       "Length: 23\n",
       "Categories (23, object): ['대만', '독일', '미국', '미주', ..., '정보없음', '카자흐스탄', '중동/아프리카', '오스트레일리아']"
      ]
     },
     "execution_count": 86,
     "metadata": {},
     "output_type": "execute_result"
    }
   ],
   "source": [
    "foreign['COUNTRY_NM'].unique()"
   ]
  },
  {
   "cell_type": "code",
   "execution_count": 41,
   "metadata": {
    "scrolled": true
   },
   "outputs": [
    {
     "data": {
      "text/html": [
       "<div>\n",
       "<style scoped>\n",
       "    .dataframe tbody tr th:only-of-type {\n",
       "        vertical-align: middle;\n",
       "    }\n",
       "\n",
       "    .dataframe tbody tr th {\n",
       "        vertical-align: top;\n",
       "    }\n",
       "\n",
       "    .dataframe thead th {\n",
       "        text-align: right;\n",
       "    }\n",
       "</style>\n",
       "<table border=\"1\" class=\"dataframe\">\n",
       "  <thead>\n",
       "    <tr style=\"text-align: right;\">\n",
       "      <th></th>\n",
       "      <th>DATE</th>\n",
       "      <th>YEAR</th>\n",
       "      <th>MONTH</th>\n",
       "      <th>DAY</th>\n",
       "      <th>GU_CODE</th>\n",
       "      <th>DONG_CODE</th>\n",
       "      <th>INDUSTRY_CODE</th>\n",
       "      <th>COUNTRY_NM</th>\n",
       "      <th>USE_CNT</th>\n",
       "      <th>USE_AMT</th>\n",
       "      <th>SI_CODE</th>\n",
       "      <th>TOTAL_CODE</th>\n",
       "    </tr>\n",
       "  </thead>\n",
       "  <tbody>\n",
       "    <tr>\n",
       "      <th>0</th>\n",
       "      <td>2019-02-04</td>\n",
       "      <td>2019</td>\n",
       "      <td>2</td>\n",
       "      <td>4</td>\n",
       "      <td>26</td>\n",
       "      <td>510</td>\n",
       "      <td>81</td>\n",
       "      <td>대만</td>\n",
       "      <td>2</td>\n",
       "      <td>30.0</td>\n",
       "      <td>27</td>\n",
       "      <td>2726510</td>\n",
       "    </tr>\n",
       "    <tr>\n",
       "      <th>1</th>\n",
       "      <td>2019-02-13</td>\n",
       "      <td>2019</td>\n",
       "      <td>2</td>\n",
       "      <td>13</td>\n",
       "      <td>26</td>\n",
       "      <td>510</td>\n",
       "      <td>40</td>\n",
       "      <td>대만</td>\n",
       "      <td>2</td>\n",
       "      <td>32.0</td>\n",
       "      <td>27</td>\n",
       "      <td>2726510</td>\n",
       "    </tr>\n",
       "    <tr>\n",
       "      <th>2</th>\n",
       "      <td>2019-04-16</td>\n",
       "      <td>2019</td>\n",
       "      <td>4</td>\n",
       "      <td>16</td>\n",
       "      <td>26</td>\n",
       "      <td>510</td>\n",
       "      <td>40</td>\n",
       "      <td>대만</td>\n",
       "      <td>2</td>\n",
       "      <td>16.0</td>\n",
       "      <td>27</td>\n",
       "      <td>2726510</td>\n",
       "    </tr>\n",
       "    <tr>\n",
       "      <th>3</th>\n",
       "      <td>2019-04-19</td>\n",
       "      <td>2019</td>\n",
       "      <td>4</td>\n",
       "      <td>19</td>\n",
       "      <td>26</td>\n",
       "      <td>510</td>\n",
       "      <td>42</td>\n",
       "      <td>대만</td>\n",
       "      <td>3</td>\n",
       "      <td>610.0</td>\n",
       "      <td>27</td>\n",
       "      <td>2726510</td>\n",
       "    </tr>\n",
       "    <tr>\n",
       "      <th>4</th>\n",
       "      <td>2019-03-08</td>\n",
       "      <td>2019</td>\n",
       "      <td>3</td>\n",
       "      <td>8</td>\n",
       "      <td>26</td>\n",
       "      <td>510</td>\n",
       "      <td>10</td>\n",
       "      <td>대만</td>\n",
       "      <td>7</td>\n",
       "      <td>629.0</td>\n",
       "      <td>27</td>\n",
       "      <td>2726510</td>\n",
       "    </tr>\n",
       "  </tbody>\n",
       "</table>\n",
       "</div>"
      ],
      "text/plain": [
       "        DATE  YEAR  MONTH  DAY GU_CODE DONG_CODE INDUSTRY_CODE COUNTRY_NM  \\\n",
       "0 2019-02-04  2019      2    4      26       510            81         대만   \n",
       "1 2019-02-13  2019      2   13      26       510            40         대만   \n",
       "2 2019-04-16  2019      4   16      26       510            40         대만   \n",
       "3 2019-04-19  2019      4   19      26       510            42         대만   \n",
       "4 2019-03-08  2019      3    8      26       510            10         대만   \n",
       "\n",
       "   USE_CNT  USE_AMT SI_CODE TOTAL_CODE  \n",
       "0        2     30.0      27    2726510  \n",
       "1        2     32.0      27    2726510  \n",
       "2        2     16.0      27    2726510  \n",
       "3        3    610.0      27    2726510  \n",
       "4        7    629.0      27    2726510  "
      ]
     },
     "execution_count": 41,
     "metadata": {},
     "output_type": "execute_result"
    }
   ],
   "source": [
    "foreign.head()"
   ]
  },
  {
   "cell_type": "code",
   "execution_count": 78,
   "metadata": {
    "collapsed": true
   },
   "outputs": [
    {
     "data": {
      "image/png": "[encoded data removed]",
      "text/plain": [
       "<Figure size 1080x720 with 2 Axes>"
      ]
     },
     "metadata": {
      "needs_background": "light"
     },
     "output_type": "display_data"
    }
   ],
   "source": [
    "# 정규화를 통해 매출액의 분포가 정규분포를 가지도록 만듦\n",
    "from scipy import stats #Analysis \n",
    "\n",
    "fig = plt.figure(figsize = (15,10))\n",
    "\n",
    "fig.add_subplot(1,2,1)\n",
    "res = stats.probplot(foreign['USE_AMT'], plot=plt)\n",
    "\n",
    "fig.add_subplot(1,2,2)\n",
    "res = stats.probplot(np.log1p(foreign['USE_AMT']), plot=plt)"
   ]
  },
  {
   "cell_type": "code",
   "execution_count": 79,
   "metadata": {
    "collapsed": true
   },
   "outputs": [
    {
     "data": {
      "text/plain": [
       "<matplotlib.axes._subplots.AxesSubplot at 0x27438f40648>"
      ]
     },
     "execution_count": 79,
     "metadata": {},
     "output_type": "execute_result"
    },
    {
     "data": {
      "image/png": "[encoded data removed]",
      "text/plain": [
       "<Figure size 576x432 with 1 Axes>"
      ]
     },
     "metadata": {
      "needs_background": "light"
     },
     "output_type": "display_data"
    }
   ],
   "source": [
    "import seaborn as sns\n",
    "# 정규분포를 가지도록 변환\n",
    "foreign['USE_AMT'] = np.log1p(foreign['USE_AMT'])\n",
    "# 히스토그램 \n",
    "f, ax = plt.subplots(figsize=(8, 6))\n",
    "sns.distplot(foreign['USE_AMT'])"
   ]
  },
  {
   "cell_type": "code",
   "execution_count": 163,
   "metadata": {
    "collapsed": true
   },
   "outputs": [
    {
     "data": {
      "image/png": "[encoded data removed]",
      "text/plain": [
       "<Figure size 1800x720 with 1 Axes>"
      ]
     },
     "metadata": {
      "needs_background": "light"
     },
     "output_type": "display_data"
    }
   ],
   "source": [
    "# 그래프 그리기\n",
    "label = sorted(foreign['COUNTRY_NM'].unique())\n",
    "index = np.arange(len(label))\n",
    "\n",
    "plt.figure(figsize = (25,10))\n",
    "\n",
    "plt.subplot(1,1,1)\n",
    "plt.bar(index, amount_for[0::2],bar_width,label='seoul')\n",
    "plt.bar(index+bar_width, amount_for[1::2],bar_width,label='daegu')\n",
    "plt.xticks(index, label)\n",
    "plt.xlabel('COUNTRY', fontsize = 15)\n",
    "plt.ylabel('USE_AMT', fontsize = 15)\n",
    "plt.title(\"COUNTRY&SI - USE_AMT\", fontsize = 15)\n",
    "plt.legend()\n",
    "\n",
    "plt.show()"
   ]
  },
  {
   "cell_type": "code",
   "execution_count": 123,
   "metadata": {
    "collapsed": true
   },
   "outputs": [
    {
     "data": {
      "text/plain": [
       "COUNTRY_NM  SI_CODE\n",
       "네덜란드        11              0.000000\n",
       "            27           1027.612367\n",
       "대만          11          53543.221654\n",
       "            27          19253.054081\n",
       "독일          11           3609.618583\n",
       "            27              0.000000\n",
       "러시아         11              0.000000\n",
       "            27           2313.695293\n",
       "미국          11         137086.295141\n",
       "            27          96412.360535\n",
       "미주          11          63000.552639\n",
       "            27          16264.850984\n",
       "베트남         11          26002.709210\n",
       "            27           1445.762830\n",
       "스웨덴         11              0.000000\n",
       "            27           2056.480173\n",
       "싱가폴         11          48289.826313\n",
       "            27           5840.983784\n",
       "아시아         11          64822.643779\n",
       "            27          11126.673913\n",
       "영국          11          48384.515298\n",
       "            27           9176.423543\n",
       "오스트레일리아     11           2973.620509\n",
       "            27              0.000000\n",
       "유럽          11          89374.373285\n",
       "            27          14954.667797\n",
       "일본          11         104804.794633\n",
       "            27          25043.615060\n",
       "정보없음        11           1667.846869\n",
       "            27            333.677778\n",
       "중국          11         117643.134104\n",
       "            27          18523.354189\n",
       "중동/아프리카     11          38493.863564\n",
       "            27           3740.842806\n",
       "카자흐스탄       11           2120.346390\n",
       "            27              0.000000\n",
       "캐나다         11           3498.860253\n",
       "            27              0.000000\n",
       "태국          11          40231.237685\n",
       "            27           2039.297695\n",
       "프랑스         11              0.000000\n",
       "            27           4725.877227\n",
       "필리핀         11          33982.747131\n",
       "            27              0.000000\n",
       "홍콩          11          53498.927066\n",
       "            27           6441.148661\n",
       "Name: USE_AMT, dtype: float64"
      ]
     },
     "execution_count": 123,
     "metadata": {},
     "output_type": "execute_result"
    }
   ],
   "source": [
    "amount_for"
   ]
  },
  {
   "cell_type": "code",
   "execution_count": 85,
   "metadata": {
    "collapsed": true
   },
   "outputs": [
    {
     "data": {
      "image/png": "[encoded data removed]",
      "text/plain": [
       "<Figure size 1800x720 with 1 Axes>"
      ]
     },
     "metadata": {
      "needs_background": "light"
     },
     "output_type": "display_data"
    }
   ],
   "source": [
    "# 그래프 그리기\n",
    "label = sorted(foreign['COUNTRY_NM'].unique())\n",
    "index = np.arange(len(label))\n",
    "bar_width = 0.3\n",
    "plt.figure(figsize = (25,10))\n",
    "\n",
    "plt.subplot(1,1,1)\n",
    "plt.bar(index, amount_for[0::2],bar_width,label='seoul')\n",
    "plt.bar(index+bar_width, amount_for[1::2],bar_width,label='daegu')\n",
    "plt.xticks(index, label)\n",
    "plt.xlabel('COUNTRY', fontsize = 15)\n",
    "plt.ylabel('USE_AMT', fontsize = 15)\n",
    "plt.title(\"COUNTRY&SI - USE_AMT\", fontsize = 15)\n",
    "plt.legend()\n",
    "\n",
    "plt.show()"
   ]
  }
 ],
 "metadata": {
  "kernelspec": {
   "display_name": "Python 3",
   "language": "python",
   "name": "python3"
  },
  "language_info": {
   "codemirror_mode": {
    "name": "ipython",
    "version": 3
   },
   "file_extension": ".py",
   "mimetype": "text/x-python",
   "name": "python",
   "nbconvert_exporter": "python",
   "pygments_lexer": "ipython3",
   "version": "3.7.7"
  }
 },
 "nbformat": 4,
 "nbformat_minor": 4
}
