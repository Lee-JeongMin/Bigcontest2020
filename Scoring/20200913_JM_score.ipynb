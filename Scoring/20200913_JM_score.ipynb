{
 "cells": [
  {
   "cell_type": "code",
   "execution_count": 257,
   "metadata": {},
   "outputs": [
    {
     "data": {
      "text/html": [
       "<style>.container { width:90% !important; }</style>"
      ],
      "text/plain": [
       "<IPython.core.display.HTML object>"
      ]
     },
     "metadata": {},
     "output_type": "display_data"
    }
   ],
   "source": [
    "from IPython.core.display import display, HTML\n",
    "display(HTML(\"<style>.container { width:90% !important; }</style>\"))"
   ]
  },
  {
   "cell_type": "code",
   "execution_count": 282,
   "metadata": {},
   "outputs": [],
   "source": [
    "import pickle\n",
    "import matplotlib.pyplot as plt\n",
    "import numpy as np\n",
    "import seaborn as sns \n",
    "import pandas as pd\n",
    "import datetime as dt"
   ]
  },
  {
   "cell_type": "code",
   "execution_count": 283,
   "metadata": {},
   "outputs": [],
   "source": [
    "# 한글 깨짐 현상을 해결\n",
    "import matplotlib\n",
    "matplotlib.rcParams['font.family'] = 'Malgun Gothic'\n",
    "matplotlib.rcParams['axes.unicode_minus'] = False"
   ]
  },
  {
   "cell_type": "code",
   "execution_count": 284,
   "metadata": {},
   "outputs": [],
   "source": [
    "with open('../../BIGCON_DATA_ver1.2/SK_DATA.bin', 'rb') as f:\n",
    "    sk_data = pickle.load(f) \n",
    "with open('../../BIGCON_DATA_ver1.2/SH_DATA.bin', 'rb') as f:\n",
    "    sh_data = pickle.load(f) \n",
    "    \n",
    "# sk 데이터\n",
    "sk_age = sk_data['SK_AGE']\n",
    "sk_time = sk_data['SK_TIME']\n",
    "\n",
    "# sh 데이터\n",
    "sh_resident = sh_data['SH_RESIDENT']\n",
    "sh_foreign = sh_data['SH_FOREIGN']"
   ]
  },
  {
   "cell_type": "markdown",
   "metadata": {},
   "source": [
    "### 수식\n",
    "* 식 : 1 - (위해지표+취약지표-경감지표)\n",
    "    * 위해지표 = 감염병 확진자수\n",
    "    * 취약지표 = 고령인구수 -> 나이가 많은 사람이 코로나에 더 취약함\n",
    "    * 경감지표 = 의료기관 수 \n",
    "    \n",
    "    \n",
    "* 흐름도\n",
    "    1. 서울/대구 지역별 확진자 수 데이터 구하기 (일별 데이터 가능) (O)\n",
    "    2. 서울/대구 지역별 고령 인구수 데이터 구하기 (월별 데이터) (O)\n",
    "    3. 서울/대구 지역별 의료기관 수 구하기 (음.. 일별 데이터 애매....)\n",
    "    4. ①과 ②,③의 값을  -> 0~1으로 만들기\n",
    "    5. 100 - (① + ② - ③) 하기\n",
    "   \n",
    "   \n",
    "* 데이터 info\n",
    "    * [전체 확진자 수](https://news.google.com/covid19/map?hl=ko&mid=%2Fm%2F06qd3&gl=KR&ceid=KR%3Ako) => all_covid.xlsx\n",
    "    * [대구 확진자 수](http://covid19.daegu.go.kr/00936642.html#LINK) => daegu_covid_num.xlsx\n",
    "    * [서울 확진자 수](http://data.seoul.go.kr/dataList/OA-20279/S/1/datasetView.do) => seoul_covid_num.xlsx\n",
    "    * [고령 인구 수](http://kosis.kr/statHtml/statHtml.do?orgId=101&tblId=DT_1YL20631) => old_people.csv\n",
    "    * [지역별 의료기관 수](https://www.data.go.kr/tcs/dss/selectApiDataDetailView.do?publicDataPk=15043078) => covid_hosp_service.csv\n",
    "        "
   ]
  },
  {
   "cell_type": "markdown",
   "metadata": {},
   "source": [
    " ## 목차\n",
    " \n",
    " * [1.서울/대구/전체 확진자 수 구하기](#1.-서울/대구/전체-확진자-수-구하기)\n",
    " * [2.서울/대구/전체 고령인구수 구하기](#2.-서울/대구/전체-고령인구수-구하기)\n",
    " * [3.서울/대구/전체 지역별 의료기관 수](#3.-서울/대구/전체-지역별-의료기관-수)\n",
    " * [4.위의 값을 붙여준다 (확진자수+고령인구수+의료기관수)](#4.위의-값을-붙여준다-(확진자수+고령인구수+의료기관수))\n",
    " * [5.MinMaxScaler를 사용해 값을 0과 1사이로 만들어준다.](#5.-MinMaxScaler를-사용해-값을-0과-1사이로-만들어준다.)\n",
    " * [6.수식에 따라 계산한다. 수식 : 1-(위해지표+취약지표-경감지표)](#6.-수식에-따라-계산한다.-수식-:-1---(위해지표+취약지표-경감지표))\n",
    " * [7.sk유동인구와 sh매출액을 서울/대구/(서울+대구) 쪼갠 후 월별로-합하기](#7.-sk유동인구와-sh매출액을-서울/대구/(서울+대구)-쪼갠-후-월별로-합하기)\n",
    " * [8.지표와 상관관계 그려보기](#8.-지표와-상관관계-그려보기)"
   ]
  },
  {
   "cell_type": "code",
   "execution_count": 102,
   "metadata": {},
   "outputs": [],
   "source": [
    "import warnings\n",
    "warnings.filterwarnings('ignore')\n",
    "import pandas as pd\n",
    "import numpy as np\n",
    "from sklearn.preprocessing import MinMaxScaler"
   ]
  },
  {
   "cell_type": "markdown",
   "metadata": {},
   "source": [
    "### 1. 서울/대구/전체 확진자 수 구하기"
   ]
  },
  {
   "cell_type": "code",
   "execution_count": 331,
   "metadata": {},
   "outputs": [],
   "source": [
    "# 위해 지표 데이터(가충지 50%)\n",
    "all_num = pd.read_excel('../covid_dataset/all_covid.xlsx')\n",
    "seoul_num = pd.read_excel('../covid_dataset/seoul_covid_num.xlsx')\n",
    "daegu_num = pd.read_excel('../covid_dataset/daegu_covid_num.xlsx')"
   ]
  },
  {
   "cell_type": "code",
   "execution_count": 337,
   "metadata": {},
   "outputs": [],
   "source": [
    "# 월컬럼 추가하기\n",
    "all_num['MONTH'] = all_num['DATE'].dt.month\n",
    "seoul_num['MONTH'] =  seoul_num['DATE'].dt.month\n",
    "daegu_num['MONTH'] =  daegu_num['DATE'].dt.month"
   ]
  },
  {
   "cell_type": "code",
   "execution_count": 338,
   "metadata": {},
   "outputs": [],
   "source": [
    "# 월별로 확진자수 합하기\n",
    "all_month_num = pd.DataFrame(all_num.groupby('MONTH')['NUM'].sum())\n",
    "all_month_num.reset_index(level=['MONTH'], inplace = True)\n",
    "\n",
    "seoul_month_num = pd.DataFrame(seoul_num.groupby('MONTH')['NUM'].sum())\n",
    "seoul_month_num.reset_index(level=['MONTH'], inplace = True)\n",
    "\n",
    "daegu_month_num = pd.DataFrame(daegu_num.groupby('MONTH')['NUM'].sum())\n",
    "daegu_month_num.reset_index(level=['MONTH'], inplace = True)"
   ]
  },
  {
   "cell_type": "code",
   "execution_count": 339,
   "metadata": {},
   "outputs": [
    {
     "data": {
      "text/html": [
       "<div>\n",
       "<style scoped>\n",
       "    .dataframe tbody tr th:only-of-type {\n",
       "        vertical-align: middle;\n",
       "    }\n",
       "\n",
       "    .dataframe tbody tr th {\n",
       "        vertical-align: top;\n",
       "    }\n",
       "\n",
       "    .dataframe thead th {\n",
       "        text-align: right;\n",
       "    }\n",
       "</style>\n",
       "<table border=\"1\" class=\"dataframe\">\n",
       "  <thead>\n",
       "    <tr style=\"text-align: right;\">\n",
       "      <th></th>\n",
       "      <th>MONTH</th>\n",
       "      <th>NUM</th>\n",
       "    </tr>\n",
       "  </thead>\n",
       "  <tbody>\n",
       "    <tr>\n",
       "      <th>0</th>\n",
       "      <td>2</td>\n",
       "      <td>3138</td>\n",
       "    </tr>\n",
       "    <tr>\n",
       "      <th>1</th>\n",
       "      <td>3</td>\n",
       "      <td>6737</td>\n",
       "    </tr>\n",
       "    <tr>\n",
       "      <th>2</th>\n",
       "      <td>4</td>\n",
       "      <td>887</td>\n",
       "    </tr>\n",
       "    <tr>\n",
       "      <th>3</th>\n",
       "      <td>5</td>\n",
       "      <td>729</td>\n",
       "    </tr>\n",
       "  </tbody>\n",
       "</table>\n",
       "</div>"
      ],
      "text/plain": [
       "   MONTH   NUM\n",
       "0      2  3138\n",
       "1      3  6737\n",
       "2      4   887\n",
       "3      5   729"
      ]
     },
     "execution_count": 339,
     "metadata": {},
     "output_type": "execute_result"
    }
   ],
   "source": [
    "all_month_num"
   ]
  },
  {
   "cell_type": "code",
   "execution_count": 145,
   "metadata": {},
   "outputs": [
    {
     "data": {
      "text/html": [
       "<div>\n",
       "<style scoped>\n",
       "    .dataframe tbody tr th:only-of-type {\n",
       "        vertical-align: middle;\n",
       "    }\n",
       "\n",
       "    .dataframe tbody tr th {\n",
       "        vertical-align: top;\n",
       "    }\n",
       "\n",
       "    .dataframe thead th {\n",
       "        text-align: right;\n",
       "    }\n",
       "</style>\n",
       "<table border=\"1\" class=\"dataframe\">\n",
       "  <thead>\n",
       "    <tr style=\"text-align: right;\">\n",
       "      <th></th>\n",
       "      <th>MONTH</th>\n",
       "      <th>NUM</th>\n",
       "    </tr>\n",
       "  </thead>\n",
       "  <tbody>\n",
       "    <tr>\n",
       "      <th>0</th>\n",
       "      <td>2</td>\n",
       "      <td>80</td>\n",
       "    </tr>\n",
       "    <tr>\n",
       "      <th>1</th>\n",
       "      <td>3</td>\n",
       "      <td>391</td>\n",
       "    </tr>\n",
       "    <tr>\n",
       "      <th>2</th>\n",
       "      <td>4</td>\n",
       "      <td>156</td>\n",
       "    </tr>\n",
       "    <tr>\n",
       "      <th>3</th>\n",
       "      <td>5</td>\n",
       "      <td>228</td>\n",
       "    </tr>\n",
       "  </tbody>\n",
       "</table>\n",
       "</div>"
      ],
      "text/plain": [
       "   MONTH  NUM\n",
       "0      2   80\n",
       "1      3  391\n",
       "2      4  156\n",
       "3      5  228"
      ]
     },
     "execution_count": 145,
     "metadata": {},
     "output_type": "execute_result"
    }
   ],
   "source": [
    "seoul_month_num"
   ]
  },
  {
   "cell_type": "code",
   "execution_count": 146,
   "metadata": {},
   "outputs": [
    {
     "data": {
      "text/html": [
       "<div>\n",
       "<style scoped>\n",
       "    .dataframe tbody tr th:only-of-type {\n",
       "        vertical-align: middle;\n",
       "    }\n",
       "\n",
       "    .dataframe tbody tr th {\n",
       "        vertical-align: top;\n",
       "    }\n",
       "\n",
       "    .dataframe thead th {\n",
       "        text-align: right;\n",
       "    }\n",
       "</style>\n",
       "<table border=\"1\" class=\"dataframe\">\n",
       "  <thead>\n",
       "    <tr style=\"text-align: right;\">\n",
       "      <th></th>\n",
       "      <th>MONTH</th>\n",
       "      <th>NUM</th>\n",
       "    </tr>\n",
       "  </thead>\n",
       "  <tbody>\n",
       "    <tr>\n",
       "      <th>0</th>\n",
       "      <td>2</td>\n",
       "      <td>2055</td>\n",
       "    </tr>\n",
       "    <tr>\n",
       "      <th>1</th>\n",
       "      <td>3</td>\n",
       "      <td>4628</td>\n",
       "    </tr>\n",
       "    <tr>\n",
       "      <th>2</th>\n",
       "      <td>4</td>\n",
       "      <td>168</td>\n",
       "    </tr>\n",
       "    <tr>\n",
       "      <th>3</th>\n",
       "      <td>5</td>\n",
       "      <td>31</td>\n",
       "    </tr>\n",
       "  </tbody>\n",
       "</table>\n",
       "</div>"
      ],
      "text/plain": [
       "   MONTH   NUM\n",
       "0      2  2055\n",
       "1      3  4628\n",
       "2      4   168\n",
       "3      5    31"
      ]
     },
     "execution_count": 146,
     "metadata": {},
     "output_type": "execute_result"
    }
   ],
   "source": [
    "daegu_month_num"
   ]
  },
  {
   "cell_type": "markdown",
   "metadata": {},
   "source": [
    "### 2. 서울/대구/전체 고령인구수 구하기\n",
    "* https://www.data.go.kr/data/15062229/fileData.do => 국토교통부제공 사용 X\n",
    "* http://kosis.kr/statHtml/statHtml.do?orgId=101&tblId=DT_1YL20631 => 통계청 사용 O / 구별로 볼수 있음, 2019년2020년 2,3,4,5월(O)  => 일별 X"
   ]
  },
  {
   "cell_type": "code",
   "execution_count": 353,
   "metadata": {
    "scrolled": true
   },
   "outputs": [
    {
     "data": {
      "text/html": [
       "<div>\n",
       "<style scoped>\n",
       "    .dataframe tbody tr th:only-of-type {\n",
       "        vertical-align: middle;\n",
       "    }\n",
       "\n",
       "    .dataframe tbody tr th {\n",
       "        vertical-align: top;\n",
       "    }\n",
       "\n",
       "    .dataframe thead th {\n",
       "        text-align: right;\n",
       "    }\n",
       "</style>\n",
       "<table border=\"1\" class=\"dataframe\">\n",
       "  <thead>\n",
       "    <tr style=\"text-align: right;\">\n",
       "      <th></th>\n",
       "      <th>행정구역별(1)</th>\n",
       "      <th>행정구역별(2)</th>\n",
       "      <th>2019. 02</th>\n",
       "      <th>2019. 03</th>\n",
       "      <th>2019. 04</th>\n",
       "      <th>2019. 05</th>\n",
       "      <th>2020. 02</th>\n",
       "      <th>2020. 03</th>\n",
       "      <th>2020. 04</th>\n",
       "      <th>2020. 05</th>\n",
       "    </tr>\n",
       "  </thead>\n",
       "  <tbody>\n",
       "    <tr>\n",
       "      <th>1</th>\n",
       "      <td>전국</td>\n",
       "      <td>소계</td>\n",
       "      <td>7710310</td>\n",
       "      <td>7748488</td>\n",
       "      <td>7773471</td>\n",
       "      <td>7804999</td>\n",
       "      <td>8122592</td>\n",
       "      <td>8193267</td>\n",
       "      <td>8229428</td>\n",
       "      <td>8265848</td>\n",
       "    </tr>\n",
       "    <tr>\n",
       "      <th>2</th>\n",
       "      <td>서울특별시</td>\n",
       "      <td>소계</td>\n",
       "      <td>1421956</td>\n",
       "      <td>1429163</td>\n",
       "      <td>1433709</td>\n",
       "      <td>1439124</td>\n",
       "      <td>1497449</td>\n",
       "      <td>1510460</td>\n",
       "      <td>1516443</td>\n",
       "      <td>1522550</td>\n",
       "    </tr>\n",
       "    <tr>\n",
       "      <th>3</th>\n",
       "      <td>서울특별시</td>\n",
       "      <td>중구</td>\n",
       "      <td>22023</td>\n",
       "      <td>22120</td>\n",
       "      <td>22232</td>\n",
       "      <td>22321</td>\n",
       "      <td>23257</td>\n",
       "      <td>23448</td>\n",
       "      <td>23525</td>\n",
       "      <td>23620</td>\n",
       "    </tr>\n",
       "    <tr>\n",
       "      <th>4</th>\n",
       "      <td>서울특별시</td>\n",
       "      <td>노원구</td>\n",
       "      <td>77688</td>\n",
       "      <td>78094</td>\n",
       "      <td>78341</td>\n",
       "      <td>78637</td>\n",
       "      <td>81919</td>\n",
       "      <td>82605</td>\n",
       "      <td>82973</td>\n",
       "      <td>83310</td>\n",
       "    </tr>\n",
       "    <tr>\n",
       "      <th>5</th>\n",
       "      <td>대구광역시</td>\n",
       "      <td>소계</td>\n",
       "      <td>366000</td>\n",
       "      <td>367661</td>\n",
       "      <td>368800</td>\n",
       "      <td>370113</td>\n",
       "      <td>383965</td>\n",
       "      <td>387318</td>\n",
       "      <td>388845</td>\n",
       "      <td>390430</td>\n",
       "    </tr>\n",
       "    <tr>\n",
       "      <th>6</th>\n",
       "      <td>대구광역시</td>\n",
       "      <td>중구</td>\n",
       "      <td>15615</td>\n",
       "      <td>15628</td>\n",
       "      <td>15601</td>\n",
       "      <td>15546</td>\n",
       "      <td>15657</td>\n",
       "      <td>15733</td>\n",
       "      <td>15723</td>\n",
       "      <td>15721</td>\n",
       "    </tr>\n",
       "    <tr>\n",
       "      <th>7</th>\n",
       "      <td>대구광역시</td>\n",
       "      <td>수성구</td>\n",
       "      <td>61576</td>\n",
       "      <td>61798</td>\n",
       "      <td>62015</td>\n",
       "      <td>62246</td>\n",
       "      <td>64313</td>\n",
       "      <td>64829</td>\n",
       "      <td>65011</td>\n",
       "      <td>65173</td>\n",
       "    </tr>\n",
       "  </tbody>\n",
       "</table>\n",
       "</div>"
      ],
      "text/plain": [
       "  행정구역별(1) 행정구역별(2) 2019. 02 2019. 03 2019. 04 2019. 05 2020. 02 2020. 03  \\\n",
       "1       전국       소계  7710310  7748488  7773471  7804999  8122592  8193267   \n",
       "2    서울특별시       소계  1421956  1429163  1433709  1439124  1497449  1510460   \n",
       "3    서울특별시       중구    22023    22120    22232    22321    23257    23448   \n",
       "4    서울특별시      노원구    77688    78094    78341    78637    81919    82605   \n",
       "5    대구광역시       소계   366000   367661   368800   370113   383965   387318   \n",
       "6    대구광역시       중구    15615    15628    15601    15546    15657    15733   \n",
       "7    대구광역시      수성구    61576    61798    62015    62246    64313    64829   \n",
       "\n",
       "  2020. 04 2020. 05  \n",
       "1  8229428  8265848  \n",
       "2  1516443  1522550  \n",
       "3    23525    23620  \n",
       "4    82973    83310  \n",
       "5   388845   390430  \n",
       "6    15723    15721  \n",
       "7    65011    65173  "
      ]
     },
     "execution_count": 353,
     "metadata": {},
     "output_type": "execute_result"
    }
   ],
   "source": [
    "old_num = pd.read_csv('../covid_dataset/old_people.csv', encoding='cp949')\n",
    "old_num = old_num.drop(0)\n",
    "old_num"
   ]
  },
  {
   "cell_type": "code",
   "execution_count": 354,
   "metadata": {
    "scrolled": true
   },
   "outputs": [
    {
     "data": {
      "text/html": [
       "<div>\n",
       "<style scoped>\n",
       "    .dataframe tbody tr th:only-of-type {\n",
       "        vertical-align: middle;\n",
       "    }\n",
       "\n",
       "    .dataframe tbody tr th {\n",
       "        vertical-align: top;\n",
       "    }\n",
       "\n",
       "    .dataframe thead th {\n",
       "        text-align: right;\n",
       "    }\n",
       "</style>\n",
       "<table border=\"1\" class=\"dataframe\">\n",
       "  <thead>\n",
       "    <tr style=\"text-align: right;\">\n",
       "      <th></th>\n",
       "      <th>DATE</th>\n",
       "      <th>전국</th>\n",
       "      <th>서울특별시</th>\n",
       "      <th>서울특별시중구</th>\n",
       "      <th>서울특별시노원구</th>\n",
       "      <th>대구광역시</th>\n",
       "      <th>대구광역시중구</th>\n",
       "      <th>대구광역시수성구</th>\n",
       "      <th>MONTH</th>\n",
       "    </tr>\n",
       "  </thead>\n",
       "  <tbody>\n",
       "    <tr>\n",
       "      <th>0</th>\n",
       "      <td>2019. 02</td>\n",
       "      <td>7710310</td>\n",
       "      <td>1421956</td>\n",
       "      <td>22023</td>\n",
       "      <td>77688</td>\n",
       "      <td>366000</td>\n",
       "      <td>15615</td>\n",
       "      <td>61576</td>\n",
       "      <td>2</td>\n",
       "    </tr>\n",
       "    <tr>\n",
       "      <th>1</th>\n",
       "      <td>2019. 03</td>\n",
       "      <td>7748488</td>\n",
       "      <td>1429163</td>\n",
       "      <td>22120</td>\n",
       "      <td>78094</td>\n",
       "      <td>367661</td>\n",
       "      <td>15628</td>\n",
       "      <td>61798</td>\n",
       "      <td>3</td>\n",
       "    </tr>\n",
       "    <tr>\n",
       "      <th>2</th>\n",
       "      <td>2019. 04</td>\n",
       "      <td>7773471</td>\n",
       "      <td>1433709</td>\n",
       "      <td>22232</td>\n",
       "      <td>78341</td>\n",
       "      <td>368800</td>\n",
       "      <td>15601</td>\n",
       "      <td>62015</td>\n",
       "      <td>4</td>\n",
       "    </tr>\n",
       "    <tr>\n",
       "      <th>3</th>\n",
       "      <td>2019. 05</td>\n",
       "      <td>7804999</td>\n",
       "      <td>1439124</td>\n",
       "      <td>22321</td>\n",
       "      <td>78637</td>\n",
       "      <td>370113</td>\n",
       "      <td>15546</td>\n",
       "      <td>62246</td>\n",
       "      <td>5</td>\n",
       "    </tr>\n",
       "    <tr>\n",
       "      <th>4</th>\n",
       "      <td>2020. 02</td>\n",
       "      <td>8122592</td>\n",
       "      <td>1497449</td>\n",
       "      <td>23257</td>\n",
       "      <td>81919</td>\n",
       "      <td>383965</td>\n",
       "      <td>15657</td>\n",
       "      <td>64313</td>\n",
       "      <td>2</td>\n",
       "    </tr>\n",
       "    <tr>\n",
       "      <th>5</th>\n",
       "      <td>2020. 03</td>\n",
       "      <td>8193267</td>\n",
       "      <td>1510460</td>\n",
       "      <td>23448</td>\n",
       "      <td>82605</td>\n",
       "      <td>387318</td>\n",
       "      <td>15733</td>\n",
       "      <td>64829</td>\n",
       "      <td>3</td>\n",
       "    </tr>\n",
       "    <tr>\n",
       "      <th>6</th>\n",
       "      <td>2020. 04</td>\n",
       "      <td>8229428</td>\n",
       "      <td>1516443</td>\n",
       "      <td>23525</td>\n",
       "      <td>82973</td>\n",
       "      <td>388845</td>\n",
       "      <td>15723</td>\n",
       "      <td>65011</td>\n",
       "      <td>4</td>\n",
       "    </tr>\n",
       "    <tr>\n",
       "      <th>7</th>\n",
       "      <td>2020. 05</td>\n",
       "      <td>8265848</td>\n",
       "      <td>1522550</td>\n",
       "      <td>23620</td>\n",
       "      <td>83310</td>\n",
       "      <td>390430</td>\n",
       "      <td>15721</td>\n",
       "      <td>65173</td>\n",
       "      <td>5</td>\n",
       "    </tr>\n",
       "  </tbody>\n",
       "</table>\n",
       "</div>"
      ],
      "text/plain": [
       "       DATE       전국    서울특별시 서울특별시중구 서울특별시노원구   대구광역시 대구광역시중구 대구광역시수성구 MONTH\n",
       "0  2019. 02  7710310  1421956   22023    77688  366000   15615    61576     2\n",
       "1  2019. 03  7748488  1429163   22120    78094  367661   15628    61798     3\n",
       "2  2019. 04  7773471  1433709   22232    78341  368800   15601    62015     4\n",
       "3  2019. 05  7804999  1439124   22321    78637  370113   15546    62246     5\n",
       "4  2020. 02  8122592  1497449   23257    81919  383965   15657    64313     2\n",
       "5  2020. 03  8193267  1510460   23448    82605  387318   15733    64829     3\n",
       "6  2020. 04  8229428  1516443   23525    82973  388845   15723    65011     4\n",
       "7  2020. 05  8265848  1522550   23620    83310  390430   15721    65173     5"
      ]
     },
     "execution_count": 354,
     "metadata": {},
     "output_type": "execute_result"
    }
   ],
   "source": [
    "# 데이터 형식 바꾸기\n",
    "old_num['행정구역별(2)'] = old_num['행정구역별(2)'].str.replace('소계', '')\n",
    "col_names = old_num['행정구역별(1)']+old_num['행정구역별(2)']\n",
    "col_names = col_names.tolist()\n",
    "\n",
    "old_num = old_num.T\n",
    "old_num = old_num.drop(['행정구역별(1)','행정구역별(2)'])\n",
    "old_num.columns = col_names\n",
    "\n",
    "old_num = old_num.rename_axis('DATE').reset_index()\n",
    "\n",
    "# 월컬럼 추가하기\n",
    "old_num['MONTH'] = old_num['DATE'].str.split('.',expand=True)[1].str.replace('0','')\n",
    "old_num"
   ]
  },
  {
   "cell_type": "code",
   "execution_count": 355,
   "metadata": {},
   "outputs": [],
   "source": [
    "old_2020_all = old_num.iloc[4:8,[1,8]]\n",
    "old_2020_seoul = old_num.iloc[4:8,[2,3,4,8]]\n",
    "old_2020_daegu = old_num.iloc[4:8,[5,6,7,8]]"
   ]
  },
  {
   "cell_type": "code",
   "execution_count": 356,
   "metadata": {},
   "outputs": [
    {
     "data": {
      "text/html": [
       "<div>\n",
       "<style scoped>\n",
       "    .dataframe tbody tr th:only-of-type {\n",
       "        vertical-align: middle;\n",
       "    }\n",
       "\n",
       "    .dataframe tbody tr th {\n",
       "        vertical-align: top;\n",
       "    }\n",
       "\n",
       "    .dataframe thead th {\n",
       "        text-align: right;\n",
       "    }\n",
       "</style>\n",
       "<table border=\"1\" class=\"dataframe\">\n",
       "  <thead>\n",
       "    <tr style=\"text-align: right;\">\n",
       "      <th></th>\n",
       "      <th>전국</th>\n",
       "      <th>MONTH</th>\n",
       "    </tr>\n",
       "  </thead>\n",
       "  <tbody>\n",
       "    <tr>\n",
       "      <th>0</th>\n",
       "      <td>8122592</td>\n",
       "      <td>2</td>\n",
       "    </tr>\n",
       "    <tr>\n",
       "      <th>1</th>\n",
       "      <td>8193267</td>\n",
       "      <td>3</td>\n",
       "    </tr>\n",
       "    <tr>\n",
       "      <th>2</th>\n",
       "      <td>8229428</td>\n",
       "      <td>4</td>\n",
       "    </tr>\n",
       "    <tr>\n",
       "      <th>3</th>\n",
       "      <td>8265848</td>\n",
       "      <td>5</td>\n",
       "    </tr>\n",
       "  </tbody>\n",
       "</table>\n",
       "</div>"
      ],
      "text/plain": [
       "        전국 MONTH\n",
       "0  8122592     2\n",
       "1  8193267     3\n",
       "2  8229428     4\n",
       "3  8265848     5"
      ]
     },
     "execution_count": 356,
     "metadata": {},
     "output_type": "execute_result"
    }
   ],
   "source": [
    "old_2020_all.reset_index(drop=True, inplace=True)\n",
    "old_2020_all"
   ]
  },
  {
   "cell_type": "code",
   "execution_count": 357,
   "metadata": {},
   "outputs": [
    {
     "data": {
      "text/html": [
       "<div>\n",
       "<style scoped>\n",
       "    .dataframe tbody tr th:only-of-type {\n",
       "        vertical-align: middle;\n",
       "    }\n",
       "\n",
       "    .dataframe tbody tr th {\n",
       "        vertical-align: top;\n",
       "    }\n",
       "\n",
       "    .dataframe thead th {\n",
       "        text-align: right;\n",
       "    }\n",
       "</style>\n",
       "<table border=\"1\" class=\"dataframe\">\n",
       "  <thead>\n",
       "    <tr style=\"text-align: right;\">\n",
       "      <th></th>\n",
       "      <th>서울특별시</th>\n",
       "      <th>서울특별시중구</th>\n",
       "      <th>서울특별시노원구</th>\n",
       "      <th>MONTH</th>\n",
       "    </tr>\n",
       "  </thead>\n",
       "  <tbody>\n",
       "    <tr>\n",
       "      <th>0</th>\n",
       "      <td>1497449</td>\n",
       "      <td>23257</td>\n",
       "      <td>81919</td>\n",
       "      <td>2</td>\n",
       "    </tr>\n",
       "    <tr>\n",
       "      <th>1</th>\n",
       "      <td>1510460</td>\n",
       "      <td>23448</td>\n",
       "      <td>82605</td>\n",
       "      <td>3</td>\n",
       "    </tr>\n",
       "    <tr>\n",
       "      <th>2</th>\n",
       "      <td>1516443</td>\n",
       "      <td>23525</td>\n",
       "      <td>82973</td>\n",
       "      <td>4</td>\n",
       "    </tr>\n",
       "    <tr>\n",
       "      <th>3</th>\n",
       "      <td>1522550</td>\n",
       "      <td>23620</td>\n",
       "      <td>83310</td>\n",
       "      <td>5</td>\n",
       "    </tr>\n",
       "  </tbody>\n",
       "</table>\n",
       "</div>"
      ],
      "text/plain": [
       "     서울특별시 서울특별시중구 서울특별시노원구 MONTH\n",
       "0  1497449   23257    81919     2\n",
       "1  1510460   23448    82605     3\n",
       "2  1516443   23525    82973     4\n",
       "3  1522550   23620    83310     5"
      ]
     },
     "execution_count": 357,
     "metadata": {},
     "output_type": "execute_result"
    }
   ],
   "source": [
    "old_2020_seoul.reset_index(drop=True, inplace=True)\n",
    "old_2020_seoul"
   ]
  },
  {
   "cell_type": "code",
   "execution_count": 358,
   "metadata": {},
   "outputs": [
    {
     "data": {
      "text/html": [
       "<div>\n",
       "<style scoped>\n",
       "    .dataframe tbody tr th:only-of-type {\n",
       "        vertical-align: middle;\n",
       "    }\n",
       "\n",
       "    .dataframe tbody tr th {\n",
       "        vertical-align: top;\n",
       "    }\n",
       "\n",
       "    .dataframe thead th {\n",
       "        text-align: right;\n",
       "    }\n",
       "</style>\n",
       "<table border=\"1\" class=\"dataframe\">\n",
       "  <thead>\n",
       "    <tr style=\"text-align: right;\">\n",
       "      <th></th>\n",
       "      <th>대구광역시</th>\n",
       "      <th>대구광역시중구</th>\n",
       "      <th>대구광역시수성구</th>\n",
       "      <th>MONTH</th>\n",
       "    </tr>\n",
       "  </thead>\n",
       "  <tbody>\n",
       "    <tr>\n",
       "      <th>0</th>\n",
       "      <td>383965</td>\n",
       "      <td>15657</td>\n",
       "      <td>64313</td>\n",
       "      <td>2</td>\n",
       "    </tr>\n",
       "    <tr>\n",
       "      <th>1</th>\n",
       "      <td>387318</td>\n",
       "      <td>15733</td>\n",
       "      <td>64829</td>\n",
       "      <td>3</td>\n",
       "    </tr>\n",
       "    <tr>\n",
       "      <th>2</th>\n",
       "      <td>388845</td>\n",
       "      <td>15723</td>\n",
       "      <td>65011</td>\n",
       "      <td>4</td>\n",
       "    </tr>\n",
       "    <tr>\n",
       "      <th>3</th>\n",
       "      <td>390430</td>\n",
       "      <td>15721</td>\n",
       "      <td>65173</td>\n",
       "      <td>5</td>\n",
       "    </tr>\n",
       "  </tbody>\n",
       "</table>\n",
       "</div>"
      ],
      "text/plain": [
       "    대구광역시 대구광역시중구 대구광역시수성구 MONTH\n",
       "0  383965   15657    64313     2\n",
       "1  387318   15733    64829     3\n",
       "2  388845   15723    65011     4\n",
       "3  390430   15721    65173     5"
      ]
     },
     "execution_count": 358,
     "metadata": {},
     "output_type": "execute_result"
    }
   ],
   "source": [
    "old_2020_daegu.reset_index(drop=True, inplace=True)\n",
    "old_2020_daegu"
   ]
  },
  {
   "cell_type": "markdown",
   "metadata": {},
   "source": [
    "### 3. 서울/대구/전체 지역별 의료기관 수 \n",
    "\n",
    "* score 낼 때 1) 서울/대구 지역에 있는 의료기관만 카운트해서 측정해보기 2) 전국구로 일자별 카운트해서 측정하기"
   ]
  },
  {
   "cell_type": "markdown",
   "metadata": {},
   "source": [
    "##### 공공데이터 open api"
   ]
  },
  {
   "cell_type": "code",
   "execution_count": null,
   "metadata": {},
   "outputs": [],
   "source": [
    "# from urllib.request import urlopen\n",
    "# from urllib.parse import urlparse, parse_qs, urlencode, quote_plus,\n",
    "from urllib.parse import unquote\n",
    "import urllib\n",
    "import requests\n",
    "import json\n",
    "import pandas as pd\n",
    "import bs4"
   ]
  },
  {
   "cell_type": "code",
   "execution_count": null,
   "metadata": {},
   "outputs": [],
   "source": [
    "key= unquote('sFIQAV7MF44AWTv8631Q4%2FjazjIR1ep03poSb10%2FH3BLXUbYCQko9tMvdaNT%2Bg3QsokgHw0wbzdmF1xWamBZXw%3D%3D')"
   ]
  },
  {
   "cell_type": "code",
   "execution_count": null,
   "metadata": {},
   "outputs": [],
   "source": [
    "# A0: 국민안심병원\n",
    "# 97: 코로나검사실시기관\n",
    "# 99: 코로나 선별진료소 운영기관\n",
    "\n",
    "url='http://apis.data.go.kr/B551182/pubReliefHospService/getpubReliefHospList'\n",
    "\n",
    "adtfrdd, sggunm, sidonm, spcladmtycd, telno, yadmnm = [], [], [], [], [], []\n",
    "\n",
    "for page_num in range(1, 109):\n",
    "    params={'serviceKey': unquote(key),\n",
    "                'numOfRows': '10',\n",
    "                'pageNo': page_num\n",
    "               }\n",
    "\n",
    "    response = requests.get(url, params=params)\n",
    "    soup = bs4.BeautifulSoup(response.text, 'html.parser')\n",
    "\n",
    "    item_ls = soup.find_all('item')\n",
    "\n",
    "    for item in item_ls:\n",
    "\n",
    "        adtfrdd.append(item.find('adtfrdd').text)\n",
    "        sggunm.append(item.find('sggunm').text)\n",
    "        sidonm.append(item.find('sidonm').text)\n",
    "        spcladmtycd.append(item.find('spcladmtycd').text)\n",
    "        telno.append(item.find('telno').text)\n",
    "        yadmnm.append(item.find('yadmnm').text)"
   ]
  },
  {
   "cell_type": "code",
   "execution_count": null,
   "metadata": {},
   "outputs": [],
   "source": [
    "covid_hospital = pd.DataFrame({'adtfrdd':adtfrdd,\n",
    "                             'sggunm':sggunm,\n",
    "                             'sidonm':sidonm,\n",
    "                             'spcladmtycd':spcladmtycd,\n",
    "                             'telno':telno,\n",
    "                             'yadmnm':yadmnm})\n",
    "covid_hospital.to_csv('../covid_dataset/covid_hosp_service.csv', index=False)    \n",
    "covid_hospital"
   ]
  },
  {
   "cell_type": "code",
   "execution_count": 159,
   "metadata": {},
   "outputs": [
    {
     "data": {
      "text/html": [
       "<div>\n",
       "<style scoped>\n",
       "    .dataframe tbody tr th:only-of-type {\n",
       "        vertical-align: middle;\n",
       "    }\n",
       "\n",
       "    .dataframe tbody tr th {\n",
       "        vertical-align: top;\n",
       "    }\n",
       "\n",
       "    .dataframe thead th {\n",
       "        text-align: right;\n",
       "    }\n",
       "</style>\n",
       "<table border=\"1\" class=\"dataframe\">\n",
       "  <thead>\n",
       "    <tr style=\"text-align: right;\">\n",
       "      <th></th>\n",
       "      <th>adtfrdd</th>\n",
       "      <th>sggunm</th>\n",
       "      <th>sidonm</th>\n",
       "      <th>spcladmtycd</th>\n",
       "      <th>telno</th>\n",
       "      <th>yadmnm</th>\n",
       "    </tr>\n",
       "  </thead>\n",
       "  <tbody>\n",
       "    <tr>\n",
       "      <th>0</th>\n",
       "      <td>20200220</td>\n",
       "      <td>강동구</td>\n",
       "      <td>서울</td>\n",
       "      <td>97</td>\n",
       "      <td>02-517-1728</td>\n",
       "      <td>(의)한국필의료재단 한국의원</td>\n",
       "    </tr>\n",
       "    <tr>\n",
       "      <th>1</th>\n",
       "      <td>20200220</td>\n",
       "      <td>광명시</td>\n",
       "      <td>경기</td>\n",
       "      <td>97</td>\n",
       "      <td>-1899-1510</td>\n",
       "      <td>의료법인 신원의료재단 신원의원</td>\n",
       "    </tr>\n",
       "    <tr>\n",
       "      <th>2</th>\n",
       "      <td>20200220</td>\n",
       "      <td>관악구</td>\n",
       "      <td>서울</td>\n",
       "      <td>97</td>\n",
       "      <td>02-1877-8875</td>\n",
       "      <td>에이치플러스 양지병원</td>\n",
       "    </tr>\n",
       "    <tr>\n",
       "      <th>3</th>\n",
       "      <td>20200220</td>\n",
       "      <td>동작구</td>\n",
       "      <td>서울</td>\n",
       "      <td>97</td>\n",
       "      <td>-1800-1114</td>\n",
       "      <td>중앙대학교병원</td>\n",
       "    </tr>\n",
       "    <tr>\n",
       "      <th>4</th>\n",
       "      <td>20200220</td>\n",
       "      <td>부산진구</td>\n",
       "      <td>부산</td>\n",
       "      <td>97</td>\n",
       "      <td>051-890-6114</td>\n",
       "      <td>인제대학교부산백병원</td>\n",
       "    </tr>\n",
       "  </tbody>\n",
       "</table>\n",
       "</div>"
      ],
      "text/plain": [
       "    adtfrdd sggunm sidonm spcladmtycd         telno            yadmnm\n",
       "0  20200220    강동구     서울          97   02-517-1728   (의)한국필의료재단 한국의원\n",
       "1  20200220    광명시     경기          97    -1899-1510  의료법인 신원의료재단 신원의원\n",
       "2  20200220    관악구     서울          97  02-1877-8875       에이치플러스 양지병원\n",
       "3  20200220    동작구     서울          97    -1800-1114           중앙대학교병원\n",
       "4  20200220   부산진구     부산          97  051-890-6114        인제대학교부산백병원"
      ]
     },
     "execution_count": 159,
     "metadata": {},
     "output_type": "execute_result"
    }
   ],
   "source": [
    "covid_hospital = pd.read_csv('../covid_dataset/covid_hosp_service.csv')\n",
    "covid_hospital.head()"
   ]
  },
  {
   "cell_type": "code",
   "execution_count": 195,
   "metadata": {
    "scrolled": true
   },
   "outputs": [],
   "source": [
    "covid_97_99 = covid_hospital.query(\"spcladmtycd in ['97','99']\")\n",
    "covid_97_99_seoul = covid_97_99.query(\"sidonm == '서울'\")\n",
    "covid_97_99_daegu = covid_97_99.query(\"sidonm == '대구'\")"
   ]
  },
  {
   "cell_type": "code",
   "execution_count": 196,
   "metadata": {},
   "outputs": [],
   "source": [
    "# 월 컬럼 추가\n",
    "covid_97_99_all = covid_97_99\n",
    "covid_97_99_all['DATE'] = pd.to_datetime(covid_97_99_all['adtfrdd'], format='%Y%m%d')\n",
    "covid_97_99_all['MONTH'] = covid_97_99_all['DATE'].dt.month \n",
    "covid_97_99_all = covid_97_99_all.drop(['adtfrdd'],axis=1)\n",
    "covid_97_99_all = covid_97_99_all.sort_values(by=['DATE'],axis=0)\n",
    "\n",
    "# 월 컬럼 추가\n",
    "covid_97_99_seoul['DATE'] = pd.to_datetime(covid_97_99_seoul['adtfrdd'], format='%Y%m%d')\n",
    "covid_97_99_seoul['MONTH'] = covid_97_99_seoul['DATE'].dt.month \n",
    "covid_97_99_seoul = covid_97_99_seoul.drop(['adtfrdd'],axis=1)\n",
    "covid_97_99_seoul = covid_97_99_seoul.sort_values(by=['DATE'],axis=0)\n",
    "\n",
    "# 월 컬럼 추가\n",
    "covid_97_99_daegu['DATE'] = pd.to_datetime(covid_97_99_daegu['adtfrdd'], format='%Y%m%d')\n",
    "covid_97_99_daegu['MONTH'] = covid_97_99_daegu['DATE'].dt.month \n",
    "covid_97_99_daegu = covid_97_99_daegu.drop(['adtfrdd'],axis=1)\n",
    "covid_97_99_daegu = covid_97_99_daegu.sort_values(by=['DATE'],axis=0)"
   ]
  },
  {
   "cell_type": "code",
   "execution_count": 208,
   "metadata": {},
   "outputs": [],
   "source": [
    "# 월별로 확진자수 합하기\n",
    "month_97_99_all = pd.DataFrame(covid_97_99_all.groupby('MONTH').size().cumsum())\n",
    "month_97_99_all.reset_index(level=['MONTH'], inplace = True)\n",
    "month_97_99_all.columns = ['MONTH', 'CNT']\n",
    "\n",
    "month_97_99_seoul = pd.DataFrame(covid_97_99_seoul.groupby('MONTH').size().cumsum())\n",
    "month_97_99_seoul.reset_index(level=['MONTH'], inplace = True)\n",
    "month_97_99_seoul.columns = ['MONTH', 'CNT']\n",
    "\n",
    "month_97_99_daegu = pd.DataFrame(covid_97_99_daegu.groupby('MONTH').size().cumsum())\n",
    "month_97_99_daegu.reset_index(level=['MONTH'], inplace = True)\n",
    "month_97_99_daegu.columns = ['MONTH', 'CNT']"
   ]
  },
  {
   "cell_type": "code",
   "execution_count": 363,
   "metadata": {},
   "outputs": [],
   "source": [
    "# 필요한 월 : 2,3,4,5  없는 월도 채워주자!\n",
    "need_month = pd.DataFrame({'MONTH':[2,3,4,5]})\n",
    "\n",
    "month_all = pd.merge(month_97_99_all, need_month, on='MONTH', how='right').fillna(method='ffill')\n",
    "month_seoul = pd.merge(month_97_99_seoul, need_month, on='MONTH', how='right').fillna(method='ffill')\n",
    "month_daegu = pd.merge(month_97_99_daegu, need_month, on='MONTH', how='right').fillna(method='ffill')"
   ]
  },
  {
   "cell_type": "code",
   "execution_count": 364,
   "metadata": {},
   "outputs": [
    {
     "data": {
      "text/html": [
       "<div>\n",
       "<style scoped>\n",
       "    .dataframe tbody tr th:only-of-type {\n",
       "        vertical-align: middle;\n",
       "    }\n",
       "\n",
       "    .dataframe tbody tr th {\n",
       "        vertical-align: top;\n",
       "    }\n",
       "\n",
       "    .dataframe thead th {\n",
       "        text-align: right;\n",
       "    }\n",
       "</style>\n",
       "<table border=\"1\" class=\"dataframe\">\n",
       "  <thead>\n",
       "    <tr style=\"text-align: right;\">\n",
       "      <th></th>\n",
       "      <th>MONTH</th>\n",
       "      <th>CNT</th>\n",
       "    </tr>\n",
       "  </thead>\n",
       "  <tbody>\n",
       "    <tr>\n",
       "      <th>0</th>\n",
       "      <td>2</td>\n",
       "      <td>740.0</td>\n",
       "    </tr>\n",
       "    <tr>\n",
       "      <th>1</th>\n",
       "      <td>3</td>\n",
       "      <td>745.0</td>\n",
       "    </tr>\n",
       "    <tr>\n",
       "      <th>2</th>\n",
       "      <td>4</td>\n",
       "      <td>745.0</td>\n",
       "    </tr>\n",
       "    <tr>\n",
       "      <th>3</th>\n",
       "      <td>5</td>\n",
       "      <td>754.0</td>\n",
       "    </tr>\n",
       "  </tbody>\n",
       "</table>\n",
       "</div>"
      ],
      "text/plain": [
       "   MONTH    CNT\n",
       "0      2  740.0\n",
       "1      3  745.0\n",
       "2      4  745.0\n",
       "3      5  754.0"
      ]
     },
     "execution_count": 364,
     "metadata": {},
     "output_type": "execute_result"
    }
   ],
   "source": [
    "month_all"
   ]
  },
  {
   "cell_type": "code",
   "execution_count": 365,
   "metadata": {},
   "outputs": [
    {
     "data": {
      "text/html": [
       "<div>\n",
       "<style scoped>\n",
       "    .dataframe tbody tr th:only-of-type {\n",
       "        vertical-align: middle;\n",
       "    }\n",
       "\n",
       "    .dataframe tbody tr th {\n",
       "        vertical-align: top;\n",
       "    }\n",
       "\n",
       "    .dataframe thead th {\n",
       "        text-align: right;\n",
       "    }\n",
       "</style>\n",
       "<table border=\"1\" class=\"dataframe\">\n",
       "  <thead>\n",
       "    <tr style=\"text-align: right;\">\n",
       "      <th></th>\n",
       "      <th>MONTH</th>\n",
       "      <th>CNT</th>\n",
       "    </tr>\n",
       "  </thead>\n",
       "  <tbody>\n",
       "    <tr>\n",
       "      <th>0</th>\n",
       "      <td>2</td>\n",
       "      <td>104.0</td>\n",
       "    </tr>\n",
       "    <tr>\n",
       "      <th>1</th>\n",
       "      <td>3</td>\n",
       "      <td>105.0</td>\n",
       "    </tr>\n",
       "    <tr>\n",
       "      <th>2</th>\n",
       "      <td>4</td>\n",
       "      <td>105.0</td>\n",
       "    </tr>\n",
       "    <tr>\n",
       "      <th>3</th>\n",
       "      <td>5</td>\n",
       "      <td>108.0</td>\n",
       "    </tr>\n",
       "  </tbody>\n",
       "</table>\n",
       "</div>"
      ],
      "text/plain": [
       "   MONTH    CNT\n",
       "0      2  104.0\n",
       "1      3  105.0\n",
       "2      4  105.0\n",
       "3      5  108.0"
      ]
     },
     "execution_count": 365,
     "metadata": {},
     "output_type": "execute_result"
    }
   ],
   "source": [
    "month_seoul"
   ]
  },
  {
   "cell_type": "code",
   "execution_count": 366,
   "metadata": {},
   "outputs": [
    {
     "data": {
      "text/html": [
       "<div>\n",
       "<style scoped>\n",
       "    .dataframe tbody tr th:only-of-type {\n",
       "        vertical-align: middle;\n",
       "    }\n",
       "\n",
       "    .dataframe tbody tr th {\n",
       "        vertical-align: top;\n",
       "    }\n",
       "\n",
       "    .dataframe thead th {\n",
       "        text-align: right;\n",
       "    }\n",
       "</style>\n",
       "<table border=\"1\" class=\"dataframe\">\n",
       "  <thead>\n",
       "    <tr style=\"text-align: right;\">\n",
       "      <th></th>\n",
       "      <th>MONTH</th>\n",
       "      <th>CNT</th>\n",
       "    </tr>\n",
       "  </thead>\n",
       "  <tbody>\n",
       "    <tr>\n",
       "      <th>0</th>\n",
       "      <td>2</td>\n",
       "      <td>30.0</td>\n",
       "    </tr>\n",
       "    <tr>\n",
       "      <th>1</th>\n",
       "      <td>3</td>\n",
       "      <td>30.0</td>\n",
       "    </tr>\n",
       "    <tr>\n",
       "      <th>2</th>\n",
       "      <td>4</td>\n",
       "      <td>30.0</td>\n",
       "    </tr>\n",
       "    <tr>\n",
       "      <th>3</th>\n",
       "      <td>5</td>\n",
       "      <td>30.0</td>\n",
       "    </tr>\n",
       "  </tbody>\n",
       "</table>\n",
       "</div>"
      ],
      "text/plain": [
       "   MONTH   CNT\n",
       "0      2  30.0\n",
       "1      3  30.0\n",
       "2      4  30.0\n",
       "3      5  30.0"
      ]
     },
     "execution_count": 366,
     "metadata": {},
     "output_type": "execute_result"
    }
   ],
   "source": [
    "month_daegu"
   ]
  },
  {
   "cell_type": "markdown",
   "metadata": {},
   "source": [
    "### 4.위의 값을 붙여준다 (확진자수+고령인구수+의료기관수)"
   ]
  },
  {
   "cell_type": "code",
   "execution_count": 368,
   "metadata": {},
   "outputs": [],
   "source": [
    "month_concat_all = pd.concat([all_month_num, old_2020_all['전국'], month_all['CNT']], axis=1)\n",
    "month_concat_seoul = pd.concat([seoul_month_num, old_2020_seoul['서울특별시'], month_seoul['CNT']], axis=1)\n",
    "month_concat_daegu = pd.concat([daegu_month_num, old_2020_daegu['대구광역시'], month_daegu['CNT']], axis=1)"
   ]
  },
  {
   "cell_type": "code",
   "execution_count": 371,
   "metadata": {},
   "outputs": [
    {
     "data": {
      "text/html": [
       "<div>\n",
       "<style scoped>\n",
       "    .dataframe tbody tr th:only-of-type {\n",
       "        vertical-align: middle;\n",
       "    }\n",
       "\n",
       "    .dataframe tbody tr th {\n",
       "        vertical-align: top;\n",
       "    }\n",
       "\n",
       "    .dataframe thead th {\n",
       "        text-align: right;\n",
       "    }\n",
       "</style>\n",
       "<table border=\"1\" class=\"dataframe\">\n",
       "  <thead>\n",
       "    <tr style=\"text-align: right;\">\n",
       "      <th></th>\n",
       "      <th>MONTH</th>\n",
       "      <th>NUM</th>\n",
       "      <th>전국</th>\n",
       "      <th>CNT</th>\n",
       "    </tr>\n",
       "  </thead>\n",
       "  <tbody>\n",
       "    <tr>\n",
       "      <th>0</th>\n",
       "      <td>2</td>\n",
       "      <td>3138</td>\n",
       "      <td>8122592</td>\n",
       "      <td>740.0</td>\n",
       "    </tr>\n",
       "    <tr>\n",
       "      <th>1</th>\n",
       "      <td>3</td>\n",
       "      <td>6737</td>\n",
       "      <td>8193267</td>\n",
       "      <td>745.0</td>\n",
       "    </tr>\n",
       "    <tr>\n",
       "      <th>2</th>\n",
       "      <td>4</td>\n",
       "      <td>887</td>\n",
       "      <td>8229428</td>\n",
       "      <td>745.0</td>\n",
       "    </tr>\n",
       "    <tr>\n",
       "      <th>3</th>\n",
       "      <td>5</td>\n",
       "      <td>729</td>\n",
       "      <td>8265848</td>\n",
       "      <td>754.0</td>\n",
       "    </tr>\n",
       "  </tbody>\n",
       "</table>\n",
       "</div>"
      ],
      "text/plain": [
       "   MONTH   NUM       전국    CNT\n",
       "0      2  3138  8122592  740.0\n",
       "1      3  6737  8193267  745.0\n",
       "2      4   887  8229428  745.0\n",
       "3      5   729  8265848  754.0"
      ]
     },
     "execution_count": 371,
     "metadata": {},
     "output_type": "execute_result"
    }
   ],
   "source": [
    "month_concat_all"
   ]
  },
  {
   "cell_type": "code",
   "execution_count": 369,
   "metadata": {},
   "outputs": [
    {
     "data": {
      "text/html": [
       "<div>\n",
       "<style scoped>\n",
       "    .dataframe tbody tr th:only-of-type {\n",
       "        vertical-align: middle;\n",
       "    }\n",
       "\n",
       "    .dataframe tbody tr th {\n",
       "        vertical-align: top;\n",
       "    }\n",
       "\n",
       "    .dataframe thead th {\n",
       "        text-align: right;\n",
       "    }\n",
       "</style>\n",
       "<table border=\"1\" class=\"dataframe\">\n",
       "  <thead>\n",
       "    <tr style=\"text-align: right;\">\n",
       "      <th></th>\n",
       "      <th>MONTH</th>\n",
       "      <th>NUM</th>\n",
       "      <th>서울특별시</th>\n",
       "      <th>CNT</th>\n",
       "    </tr>\n",
       "  </thead>\n",
       "  <tbody>\n",
       "    <tr>\n",
       "      <th>0</th>\n",
       "      <td>2</td>\n",
       "      <td>80</td>\n",
       "      <td>1497449</td>\n",
       "      <td>104.0</td>\n",
       "    </tr>\n",
       "    <tr>\n",
       "      <th>1</th>\n",
       "      <td>3</td>\n",
       "      <td>391</td>\n",
       "      <td>1510460</td>\n",
       "      <td>105.0</td>\n",
       "    </tr>\n",
       "    <tr>\n",
       "      <th>2</th>\n",
       "      <td>4</td>\n",
       "      <td>156</td>\n",
       "      <td>1516443</td>\n",
       "      <td>105.0</td>\n",
       "    </tr>\n",
       "    <tr>\n",
       "      <th>3</th>\n",
       "      <td>5</td>\n",
       "      <td>228</td>\n",
       "      <td>1522550</td>\n",
       "      <td>108.0</td>\n",
       "    </tr>\n",
       "  </tbody>\n",
       "</table>\n",
       "</div>"
      ],
      "text/plain": [
       "   MONTH  NUM    서울특별시    CNT\n",
       "0      2   80  1497449  104.0\n",
       "1      3  391  1510460  105.0\n",
       "2      4  156  1516443  105.0\n",
       "3      5  228  1522550  108.0"
      ]
     },
     "execution_count": 369,
     "metadata": {},
     "output_type": "execute_result"
    }
   ],
   "source": [
    "month_concat_seoul"
   ]
  },
  {
   "cell_type": "code",
   "execution_count": 370,
   "metadata": {},
   "outputs": [
    {
     "data": {
      "text/html": [
       "<div>\n",
       "<style scoped>\n",
       "    .dataframe tbody tr th:only-of-type {\n",
       "        vertical-align: middle;\n",
       "    }\n",
       "\n",
       "    .dataframe tbody tr th {\n",
       "        vertical-align: top;\n",
       "    }\n",
       "\n",
       "    .dataframe thead th {\n",
       "        text-align: right;\n",
       "    }\n",
       "</style>\n",
       "<table border=\"1\" class=\"dataframe\">\n",
       "  <thead>\n",
       "    <tr style=\"text-align: right;\">\n",
       "      <th></th>\n",
       "      <th>MONTH</th>\n",
       "      <th>NUM</th>\n",
       "      <th>대구광역시</th>\n",
       "      <th>CNT</th>\n",
       "    </tr>\n",
       "  </thead>\n",
       "  <tbody>\n",
       "    <tr>\n",
       "      <th>0</th>\n",
       "      <td>2</td>\n",
       "      <td>2055</td>\n",
       "      <td>383965</td>\n",
       "      <td>30.0</td>\n",
       "    </tr>\n",
       "    <tr>\n",
       "      <th>1</th>\n",
       "      <td>3</td>\n",
       "      <td>4628</td>\n",
       "      <td>387318</td>\n",
       "      <td>30.0</td>\n",
       "    </tr>\n",
       "    <tr>\n",
       "      <th>2</th>\n",
       "      <td>4</td>\n",
       "      <td>168</td>\n",
       "      <td>388845</td>\n",
       "      <td>30.0</td>\n",
       "    </tr>\n",
       "    <tr>\n",
       "      <th>3</th>\n",
       "      <td>5</td>\n",
       "      <td>31</td>\n",
       "      <td>390430</td>\n",
       "      <td>30.0</td>\n",
       "    </tr>\n",
       "  </tbody>\n",
       "</table>\n",
       "</div>"
      ],
      "text/plain": [
       "   MONTH   NUM   대구광역시   CNT\n",
       "0      2  2055  383965  30.0\n",
       "1      3  4628  387318  30.0\n",
       "2      4   168  388845  30.0\n",
       "3      5    31  390430  30.0"
      ]
     },
     "execution_count": 370,
     "metadata": {},
     "output_type": "execute_result"
    }
   ],
   "source": [
    "month_concat_daegu"
   ]
  },
  {
   "cell_type": "markdown",
   "metadata": {},
   "source": [
    "### 5. MinMaxScaler를 사용해 값을 0과 1사이로 만들어준다."
   ]
  },
  {
   "cell_type": "code",
   "execution_count": 378,
   "metadata": {},
   "outputs": [],
   "source": [
    "min_max_scaler = MinMaxScaler()\n",
    "month_concat_all[['NUM', '전국', 'CNT']] = min_max_scaler.fit_transform(month_concat_all[['NUM', '전국', 'CNT']])"
   ]
  },
  {
   "cell_type": "code",
   "execution_count": 379,
   "metadata": {},
   "outputs": [
    {
     "data": {
      "text/html": [
       "<div>\n",
       "<style scoped>\n",
       "    .dataframe tbody tr th:only-of-type {\n",
       "        vertical-align: middle;\n",
       "    }\n",
       "\n",
       "    .dataframe tbody tr th {\n",
       "        vertical-align: top;\n",
       "    }\n",
       "\n",
       "    .dataframe thead th {\n",
       "        text-align: right;\n",
       "    }\n",
       "</style>\n",
       "<table border=\"1\" class=\"dataframe\">\n",
       "  <thead>\n",
       "    <tr style=\"text-align: right;\">\n",
       "      <th></th>\n",
       "      <th>MONTH</th>\n",
       "      <th>NUM</th>\n",
       "      <th>전국</th>\n",
       "      <th>CNT</th>\n",
       "      <th>INDEX</th>\n",
       "    </tr>\n",
       "  </thead>\n",
       "  <tbody>\n",
       "    <tr>\n",
       "      <th>0</th>\n",
       "      <td>2</td>\n",
       "      <td>0.400965</td>\n",
       "      <td>0.000000</td>\n",
       "      <td>0.000000</td>\n",
       "      <td>0.699276</td>\n",
       "    </tr>\n",
       "    <tr>\n",
       "      <th>1</th>\n",
       "      <td>3</td>\n",
       "      <td>1.000000</td>\n",
       "      <td>0.493348</td>\n",
       "      <td>0.357143</td>\n",
       "      <td>0.215949</td>\n",
       "    </tr>\n",
       "    <tr>\n",
       "      <th>2</th>\n",
       "      <td>4</td>\n",
       "      <td>0.026298</td>\n",
       "      <td>0.745770</td>\n",
       "      <td>0.357143</td>\n",
       "      <td>0.883120</td>\n",
       "    </tr>\n",
       "    <tr>\n",
       "      <th>3</th>\n",
       "      <td>5</td>\n",
       "      <td>0.000000</td>\n",
       "      <td>1.000000</td>\n",
       "      <td>1.000000</td>\n",
       "      <td>1.000000</td>\n",
       "    </tr>\n",
       "  </tbody>\n",
       "</table>\n",
       "</div>"
      ],
      "text/plain": [
       "   MONTH       NUM        전국       CNT     INDEX\n",
       "0      2  0.400965  0.000000  0.000000  0.699276\n",
       "1      3  1.000000  0.493348  0.357143  0.215949\n",
       "2      4  0.026298  0.745770  0.357143  0.883120\n",
       "3      5  0.000000  1.000000  1.000000  1.000000"
      ]
     },
     "execution_count": 379,
     "metadata": {},
     "output_type": "execute_result"
    }
   ],
   "source": [
    "month_concat_all"
   ]
  },
  {
   "cell_type": "code",
   "execution_count": 380,
   "metadata": {},
   "outputs": [],
   "source": [
    "min_max_scaler = MinMaxScaler()\n",
    "month_concat_seoul[['NUM', '서울특별시', 'CNT']] = min_max_scaler.fit_transform(month_concat_seoul[['NUM', '서울특별시', 'CNT']])"
   ]
  },
  {
   "cell_type": "code",
   "execution_count": 381,
   "metadata": {},
   "outputs": [
    {
     "data": {
      "text/html": [
       "<div>\n",
       "<style scoped>\n",
       "    .dataframe tbody tr th:only-of-type {\n",
       "        vertical-align: middle;\n",
       "    }\n",
       "\n",
       "    .dataframe tbody tr th {\n",
       "        vertical-align: top;\n",
       "    }\n",
       "\n",
       "    .dataframe thead th {\n",
       "        text-align: right;\n",
       "    }\n",
       "</style>\n",
       "<table border=\"1\" class=\"dataframe\">\n",
       "  <thead>\n",
       "    <tr style=\"text-align: right;\">\n",
       "      <th></th>\n",
       "      <th>MONTH</th>\n",
       "      <th>NUM</th>\n",
       "      <th>서울특별시</th>\n",
       "      <th>CNT</th>\n",
       "    </tr>\n",
       "  </thead>\n",
       "  <tbody>\n",
       "    <tr>\n",
       "      <th>0</th>\n",
       "      <td>2</td>\n",
       "      <td>0.000000</td>\n",
       "      <td>0.000000</td>\n",
       "      <td>0.00</td>\n",
       "    </tr>\n",
       "    <tr>\n",
       "      <th>1</th>\n",
       "      <td>3</td>\n",
       "      <td>1.000000</td>\n",
       "      <td>0.518346</td>\n",
       "      <td>0.25</td>\n",
       "    </tr>\n",
       "    <tr>\n",
       "      <th>2</th>\n",
       "      <td>4</td>\n",
       "      <td>0.244373</td>\n",
       "      <td>0.756703</td>\n",
       "      <td>0.25</td>\n",
       "    </tr>\n",
       "    <tr>\n",
       "      <th>3</th>\n",
       "      <td>5</td>\n",
       "      <td>0.475884</td>\n",
       "      <td>1.000000</td>\n",
       "      <td>1.00</td>\n",
       "    </tr>\n",
       "  </tbody>\n",
       "</table>\n",
       "</div>"
      ],
      "text/plain": [
       "   MONTH       NUM     서울특별시   CNT\n",
       "0      2  0.000000  0.000000  0.00\n",
       "1      3  1.000000  0.518346  0.25\n",
       "2      4  0.244373  0.756703  0.25\n",
       "3      5  0.475884  1.000000  1.00"
      ]
     },
     "execution_count": 381,
     "metadata": {},
     "output_type": "execute_result"
    }
   ],
   "source": [
    "month_concat_seoul"
   ]
  },
  {
   "cell_type": "code",
   "execution_count": 382,
   "metadata": {},
   "outputs": [],
   "source": [
    "min_max_scaler = MinMaxScaler()\n",
    "month_concat_daegu[['NUM', '대구광역시', 'CNT']] = min_max_scaler.fit_transform(month_concat_daegu[['NUM', '대구광역시', 'CNT']])"
   ]
  },
  {
   "cell_type": "code",
   "execution_count": 383,
   "metadata": {
    "scrolled": true
   },
   "outputs": [
    {
     "data": {
      "text/html": [
       "<div>\n",
       "<style scoped>\n",
       "    .dataframe tbody tr th:only-of-type {\n",
       "        vertical-align: middle;\n",
       "    }\n",
       "\n",
       "    .dataframe tbody tr th {\n",
       "        vertical-align: top;\n",
       "    }\n",
       "\n",
       "    .dataframe thead th {\n",
       "        text-align: right;\n",
       "    }\n",
       "</style>\n",
       "<table border=\"1\" class=\"dataframe\">\n",
       "  <thead>\n",
       "    <tr style=\"text-align: right;\">\n",
       "      <th></th>\n",
       "      <th>MONTH</th>\n",
       "      <th>NUM</th>\n",
       "      <th>대구광역시</th>\n",
       "      <th>CNT</th>\n",
       "    </tr>\n",
       "  </thead>\n",
       "  <tbody>\n",
       "    <tr>\n",
       "      <th>0</th>\n",
       "      <td>2</td>\n",
       "      <td>0.440287</td>\n",
       "      <td>0.000000</td>\n",
       "      <td>0.0</td>\n",
       "    </tr>\n",
       "    <tr>\n",
       "      <th>1</th>\n",
       "      <td>3</td>\n",
       "      <td>1.000000</td>\n",
       "      <td>0.518639</td>\n",
       "      <td>0.0</td>\n",
       "    </tr>\n",
       "    <tr>\n",
       "      <th>2</th>\n",
       "      <td>4</td>\n",
       "      <td>0.029802</td>\n",
       "      <td>0.754834</td>\n",
       "      <td>0.0</td>\n",
       "    </tr>\n",
       "    <tr>\n",
       "      <th>3</th>\n",
       "      <td>5</td>\n",
       "      <td>0.000000</td>\n",
       "      <td>1.000000</td>\n",
       "      <td>0.0</td>\n",
       "    </tr>\n",
       "  </tbody>\n",
       "</table>\n",
       "</div>"
      ],
      "text/plain": [
       "   MONTH       NUM     대구광역시  CNT\n",
       "0      2  0.440287  0.000000  0.0\n",
       "1      3  1.000000  0.518639  0.0\n",
       "2      4  0.029802  0.754834  0.0\n",
       "3      5  0.000000  1.000000  0.0"
      ]
     },
     "execution_count": 383,
     "metadata": {},
     "output_type": "execute_result"
    }
   ],
   "source": [
    "month_concat_daegu"
   ]
  },
  {
   "cell_type": "markdown",
   "metadata": {},
   "source": [
    "### 6. 수식에 따라 계산한다. 수식 : 1 - (위해지표+취약지표-경감지표)"
   ]
  },
  {
   "cell_type": "code",
   "execution_count": 384,
   "metadata": {},
   "outputs": [
    {
     "data": {
      "text/html": [
       "<div>\n",
       "<style scoped>\n",
       "    .dataframe tbody tr th:only-of-type {\n",
       "        vertical-align: middle;\n",
       "    }\n",
       "\n",
       "    .dataframe tbody tr th {\n",
       "        vertical-align: top;\n",
       "    }\n",
       "\n",
       "    .dataframe thead th {\n",
       "        text-align: right;\n",
       "    }\n",
       "</style>\n",
       "<table border=\"1\" class=\"dataframe\">\n",
       "  <thead>\n",
       "    <tr style=\"text-align: right;\">\n",
       "      <th></th>\n",
       "      <th>MONTH</th>\n",
       "      <th>NUM</th>\n",
       "      <th>전국</th>\n",
       "      <th>CNT</th>\n",
       "      <th>INDEX</th>\n",
       "    </tr>\n",
       "  </thead>\n",
       "  <tbody>\n",
       "    <tr>\n",
       "      <th>0</th>\n",
       "      <td>2</td>\n",
       "      <td>0.400965</td>\n",
       "      <td>0.000000</td>\n",
       "      <td>0.000000</td>\n",
       "      <td>0.699276</td>\n",
       "    </tr>\n",
       "    <tr>\n",
       "      <th>1</th>\n",
       "      <td>3</td>\n",
       "      <td>1.000000</td>\n",
       "      <td>0.493348</td>\n",
       "      <td>0.357143</td>\n",
       "      <td>0.215949</td>\n",
       "    </tr>\n",
       "    <tr>\n",
       "      <th>2</th>\n",
       "      <td>4</td>\n",
       "      <td>0.026298</td>\n",
       "      <td>0.745770</td>\n",
       "      <td>0.357143</td>\n",
       "      <td>0.883120</td>\n",
       "    </tr>\n",
       "    <tr>\n",
       "      <th>3</th>\n",
       "      <td>5</td>\n",
       "      <td>0.000000</td>\n",
       "      <td>1.000000</td>\n",
       "      <td>1.000000</td>\n",
       "      <td>1.000000</td>\n",
       "    </tr>\n",
       "  </tbody>\n",
       "</table>\n",
       "</div>"
      ],
      "text/plain": [
       "   MONTH       NUM        전국       CNT     INDEX\n",
       "0      2  0.400965  0.000000  0.000000  0.699276\n",
       "1      3  1.000000  0.493348  0.357143  0.215949\n",
       "2      4  0.026298  0.745770  0.357143  0.883120\n",
       "3      5  0.000000  1.000000  1.000000  1.000000"
      ]
     },
     "execution_count": 384,
     "metadata": {},
     "output_type": "execute_result"
    }
   ],
   "source": [
    "month_concat_all['INDEX'] = 1 - ((month_concat_all['NUM']*0.75)+(month_concat_all['전국']*0.25)-(month_concat_all['CNT']*0.25))\n",
    "month_concat_all"
   ]
  },
  {
   "cell_type": "code",
   "execution_count": 385,
   "metadata": {},
   "outputs": [
    {
     "data": {
      "text/html": [
       "<div>\n",
       "<style scoped>\n",
       "    .dataframe tbody tr th:only-of-type {\n",
       "        vertical-align: middle;\n",
       "    }\n",
       "\n",
       "    .dataframe tbody tr th {\n",
       "        vertical-align: top;\n",
       "    }\n",
       "\n",
       "    .dataframe thead th {\n",
       "        text-align: right;\n",
       "    }\n",
       "</style>\n",
       "<table border=\"1\" class=\"dataframe\">\n",
       "  <thead>\n",
       "    <tr style=\"text-align: right;\">\n",
       "      <th></th>\n",
       "      <th>MONTH</th>\n",
       "      <th>NUM</th>\n",
       "      <th>서울특별시</th>\n",
       "      <th>CNT</th>\n",
       "      <th>INDEX</th>\n",
       "    </tr>\n",
       "  </thead>\n",
       "  <tbody>\n",
       "    <tr>\n",
       "      <th>0</th>\n",
       "      <td>2</td>\n",
       "      <td>0.000000</td>\n",
       "      <td>0.000000</td>\n",
       "      <td>0.00</td>\n",
       "      <td>1.000000</td>\n",
       "    </tr>\n",
       "    <tr>\n",
       "      <th>1</th>\n",
       "      <td>3</td>\n",
       "      <td>1.000000</td>\n",
       "      <td>0.518346</td>\n",
       "      <td>0.25</td>\n",
       "      <td>0.182914</td>\n",
       "    </tr>\n",
       "    <tr>\n",
       "      <th>2</th>\n",
       "      <td>4</td>\n",
       "      <td>0.244373</td>\n",
       "      <td>0.756703</td>\n",
       "      <td>0.25</td>\n",
       "      <td>0.690045</td>\n",
       "    </tr>\n",
       "    <tr>\n",
       "      <th>3</th>\n",
       "      <td>5</td>\n",
       "      <td>0.475884</td>\n",
       "      <td>1.000000</td>\n",
       "      <td>1.00</td>\n",
       "      <td>0.643087</td>\n",
       "    </tr>\n",
       "  </tbody>\n",
       "</table>\n",
       "</div>"
      ],
      "text/plain": [
       "   MONTH       NUM     서울특별시   CNT     INDEX\n",
       "0      2  0.000000  0.000000  0.00  1.000000\n",
       "1      3  1.000000  0.518346  0.25  0.182914\n",
       "2      4  0.244373  0.756703  0.25  0.690045\n",
       "3      5  0.475884  1.000000  1.00  0.643087"
      ]
     },
     "execution_count": 385,
     "metadata": {},
     "output_type": "execute_result"
    }
   ],
   "source": [
    "month_concat_seoul['INDEX'] = 1 - ((month_concat_seoul['NUM']*0.75)+(month_concat_seoul['서울특별시']*0.25)-(month_concat_seoul['CNT']*0.25))\n",
    "month_concat_seoul"
   ]
  },
  {
   "cell_type": "code",
   "execution_count": 386,
   "metadata": {},
   "outputs": [
    {
     "data": {
      "text/html": [
       "<div>\n",
       "<style scoped>\n",
       "    .dataframe tbody tr th:only-of-type {\n",
       "        vertical-align: middle;\n",
       "    }\n",
       "\n",
       "    .dataframe tbody tr th {\n",
       "        vertical-align: top;\n",
       "    }\n",
       "\n",
       "    .dataframe thead th {\n",
       "        text-align: right;\n",
       "    }\n",
       "</style>\n",
       "<table border=\"1\" class=\"dataframe\">\n",
       "  <thead>\n",
       "    <tr style=\"text-align: right;\">\n",
       "      <th></th>\n",
       "      <th>MONTH</th>\n",
       "      <th>NUM</th>\n",
       "      <th>대구광역시</th>\n",
       "      <th>CNT</th>\n",
       "      <th>INDEX</th>\n",
       "    </tr>\n",
       "  </thead>\n",
       "  <tbody>\n",
       "    <tr>\n",
       "      <th>0</th>\n",
       "      <td>2</td>\n",
       "      <td>0.440287</td>\n",
       "      <td>0.000000</td>\n",
       "      <td>0.0</td>\n",
       "      <td>0.669785</td>\n",
       "    </tr>\n",
       "    <tr>\n",
       "      <th>1</th>\n",
       "      <td>3</td>\n",
       "      <td>1.000000</td>\n",
       "      <td>0.518639</td>\n",
       "      <td>0.0</td>\n",
       "      <td>0.120340</td>\n",
       "    </tr>\n",
       "    <tr>\n",
       "      <th>2</th>\n",
       "      <td>4</td>\n",
       "      <td>0.029802</td>\n",
       "      <td>0.754834</td>\n",
       "      <td>0.0</td>\n",
       "      <td>0.788940</td>\n",
       "    </tr>\n",
       "    <tr>\n",
       "      <th>3</th>\n",
       "      <td>5</td>\n",
       "      <td>0.000000</td>\n",
       "      <td>1.000000</td>\n",
       "      <td>0.0</td>\n",
       "      <td>0.750000</td>\n",
       "    </tr>\n",
       "  </tbody>\n",
       "</table>\n",
       "</div>"
      ],
      "text/plain": [
       "   MONTH       NUM     대구광역시  CNT     INDEX\n",
       "0      2  0.440287  0.000000  0.0  0.669785\n",
       "1      3  1.000000  0.518639  0.0  0.120340\n",
       "2      4  0.029802  0.754834  0.0  0.788940\n",
       "3      5  0.000000  1.000000  0.0  0.750000"
      ]
     },
     "execution_count": 386,
     "metadata": {},
     "output_type": "execute_result"
    }
   ],
   "source": [
    "month_concat_daegu['INDEX'] = 1 - ((month_concat_daegu['NUM']*0.75)+(month_concat_daegu['대구광역시']*0.25)-(month_concat_daegu['CNT']*0.25))\n",
    "month_concat_daegu"
   ]
  },
  {
   "cell_type": "markdown",
   "metadata": {},
   "source": [
    "### 7. sk유동인구와 sh매출액을 서울/대구/(서울+대구) 쪼갠 후 월별로 합하기"
   ]
  },
  {
   "cell_type": "markdown",
   "metadata": {},
   "source": [
    "#### SK DATA"
   ]
  },
  {
   "cell_type": "code",
   "execution_count": 394,
   "metadata": {},
   "outputs": [
    {
     "data": {
      "text/html": [
       "<div>\n",
       "<style scoped>\n",
       "    .dataframe tbody tr th:only-of-type {\n",
       "        vertical-align: middle;\n",
       "    }\n",
       "\n",
       "    .dataframe tbody tr th {\n",
       "        vertical-align: top;\n",
       "    }\n",
       "\n",
       "    .dataframe thead th {\n",
       "        text-align: right;\n",
       "    }\n",
       "</style>\n",
       "<table border=\"1\" class=\"dataframe\">\n",
       "  <thead>\n",
       "    <tr style=\"text-align: right;\">\n",
       "      <th></th>\n",
       "      <th>MONTH</th>\n",
       "      <th>SUM</th>\n",
       "    </tr>\n",
       "  </thead>\n",
       "  <tbody>\n",
       "    <tr>\n",
       "      <th>0</th>\n",
       "      <td>2</td>\n",
       "      <td>0.429460</td>\n",
       "    </tr>\n",
       "    <tr>\n",
       "      <th>1</th>\n",
       "      <td>3</td>\n",
       "      <td>0.000000</td>\n",
       "    </tr>\n",
       "    <tr>\n",
       "      <th>2</th>\n",
       "      <td>4</td>\n",
       "      <td>0.422917</td>\n",
       "    </tr>\n",
       "    <tr>\n",
       "      <th>3</th>\n",
       "      <td>5</td>\n",
       "      <td>1.000000</td>\n",
       "    </tr>\n",
       "  </tbody>\n",
       "</table>\n",
       "</div>"
      ],
      "text/plain": [
       "   MONTH       SUM\n",
       "0      2  0.429460\n",
       "1      3  0.000000\n",
       "2      4  0.422917\n",
       "3      5  1.000000"
      ]
     },
     "execution_count": 394,
     "metadata": {},
     "output_type": "execute_result"
    }
   ],
   "source": [
    "age_col_list = sk_age.columns.values.tolist()\n",
    "age_col_list = age_col_list[7:22]\n",
    "\n",
    "sk_2020 = sk_age.query(\"YEAR=='2020'\")\n",
    "\n",
    "sk_2020_all = sk_2020\n",
    "sk_2020_all = sk_2020_all.groupby('MONTH')[age_col_list].sum()\n",
    "sk_2020_all = sk_2020_all.reset_index()\n",
    "sk_2020_all['SUM'] = sk_2020_all.iloc[:,1:].sum(axis=1)\n",
    "sk_2020_all = sk_2020_all.iloc[:,[0, -1]]\n",
    "\n",
    "# 스케일링\n",
    "min_max_scaler = MinMaxScaler()\n",
    "sk_2020_all[['SUM']] = min_max_scaler.fit_transform(sk_2020_all[['SUM']])\n",
    "sk_2020_all"
   ]
  },
  {
   "cell_type": "code",
   "execution_count": 395,
   "metadata": {
    "scrolled": true
   },
   "outputs": [
    {
     "data": {
      "text/html": [
       "<div>\n",
       "<style scoped>\n",
       "    .dataframe tbody tr th:only-of-type {\n",
       "        vertical-align: middle;\n",
       "    }\n",
       "\n",
       "    .dataframe tbody tr th {\n",
       "        vertical-align: top;\n",
       "    }\n",
       "\n",
       "    .dataframe thead th {\n",
       "        text-align: right;\n",
       "    }\n",
       "</style>\n",
       "<table border=\"1\" class=\"dataframe\">\n",
       "  <thead>\n",
       "    <tr style=\"text-align: right;\">\n",
       "      <th></th>\n",
       "      <th>MONTH</th>\n",
       "      <th>SUM</th>\n",
       "    </tr>\n",
       "  </thead>\n",
       "  <tbody>\n",
       "    <tr>\n",
       "      <th>0</th>\n",
       "      <td>2</td>\n",
       "      <td>0.373412</td>\n",
       "    </tr>\n",
       "    <tr>\n",
       "      <th>1</th>\n",
       "      <td>3</td>\n",
       "      <td>0.000000</td>\n",
       "    </tr>\n",
       "    <tr>\n",
       "      <th>2</th>\n",
       "      <td>4</td>\n",
       "      <td>0.368669</td>\n",
       "    </tr>\n",
       "    <tr>\n",
       "      <th>3</th>\n",
       "      <td>5</td>\n",
       "      <td>1.000000</td>\n",
       "    </tr>\n",
       "  </tbody>\n",
       "</table>\n",
       "</div>"
      ],
      "text/plain": [
       "   MONTH       SUM\n",
       "0      2  0.373412\n",
       "1      3  0.000000\n",
       "2      4  0.368669\n",
       "3      5  1.000000"
      ]
     },
     "execution_count": 395,
     "metadata": {},
     "output_type": "execute_result"
    }
   ],
   "source": [
    "sk_2020_seoul = sk_2020.query(\"SI_CODE=='11'\")\n",
    "sk_2020_seoul = sk_2020_seoul.groupby('MONTH')[age_col_list].sum()\n",
    "sk_2020_seoul = sk_2020_seoul.reset_index()\n",
    "sk_2020_seoul['SUM'] = sk_2020_seoul.iloc[:,1:].sum(axis=1)\n",
    "sk_2020_seoul = sk_2020_seoul.iloc[:,[0, -1]]\n",
    "\n",
    "# 스케일링\n",
    "min_max_scaler = MinMaxScaler()\n",
    "sk_2020_seoul[['SUM']] = min_max_scaler.fit_transform(sk_2020_seoul[['SUM']])\n",
    "sk_2020_seoul"
   ]
  },
  {
   "cell_type": "code",
   "execution_count": 396,
   "metadata": {},
   "outputs": [
    {
     "data": {
      "text/html": [
       "<div>\n",
       "<style scoped>\n",
       "    .dataframe tbody tr th:only-of-type {\n",
       "        vertical-align: middle;\n",
       "    }\n",
       "\n",
       "    .dataframe tbody tr th {\n",
       "        vertical-align: top;\n",
       "    }\n",
       "\n",
       "    .dataframe thead th {\n",
       "        text-align: right;\n",
       "    }\n",
       "</style>\n",
       "<table border=\"1\" class=\"dataframe\">\n",
       "  <thead>\n",
       "    <tr style=\"text-align: right;\">\n",
       "      <th></th>\n",
       "      <th>MONTH</th>\n",
       "      <th>SUM</th>\n",
       "    </tr>\n",
       "  </thead>\n",
       "  <tbody>\n",
       "    <tr>\n",
       "      <th>0</th>\n",
       "      <td>2</td>\n",
       "      <td>0.469368</td>\n",
       "    </tr>\n",
       "    <tr>\n",
       "      <th>1</th>\n",
       "      <td>3</td>\n",
       "      <td>0.000000</td>\n",
       "    </tr>\n",
       "    <tr>\n",
       "      <th>2</th>\n",
       "      <td>4</td>\n",
       "      <td>0.461543</td>\n",
       "    </tr>\n",
       "    <tr>\n",
       "      <th>3</th>\n",
       "      <td>5</td>\n",
       "      <td>1.000000</td>\n",
       "    </tr>\n",
       "  </tbody>\n",
       "</table>\n",
       "</div>"
      ],
      "text/plain": [
       "   MONTH       SUM\n",
       "0      2  0.469368\n",
       "1      3  0.000000\n",
       "2      4  0.461543\n",
       "3      5  1.000000"
      ]
     },
     "execution_count": 396,
     "metadata": {},
     "output_type": "execute_result"
    }
   ],
   "source": [
    "sk_2020_daegu = sk_2020.query(\"SI_CODE=='27'\")\n",
    "sk_2020_daegu = sk_2020_daegu.groupby('MONTH')[age_col_list].sum()\n",
    "sk_2020_daegu = sk_2020_daegu.reset_index()\n",
    "sk_2020_daegu['SUM'] = sk_2020_daegu.iloc[:,1:].sum(axis=1)\n",
    "sk_2020_daegu = sk_2020_daegu.iloc[:,[0, -1]]\n",
    "\n",
    "# 스케일링\n",
    "min_max_scaler = MinMaxScaler()\n",
    "sk_2020_daegu[['SUM']] = min_max_scaler.fit_transform(sk_2020_daegu[['SUM']])\n",
    "sk_2020_daegu"
   ]
  },
  {
   "cell_type": "markdown",
   "metadata": {},
   "source": [
    "#### SH DATA"
   ]
  },
  {
   "cell_type": "code",
   "execution_count": 397,
   "metadata": {},
   "outputs": [
    {
     "data": {
      "text/html": [
       "<div>\n",
       "<style scoped>\n",
       "    .dataframe tbody tr th:only-of-type {\n",
       "        vertical-align: middle;\n",
       "    }\n",
       "\n",
       "    .dataframe tbody tr th {\n",
       "        vertical-align: top;\n",
       "    }\n",
       "\n",
       "    .dataframe thead th {\n",
       "        text-align: right;\n",
       "    }\n",
       "</style>\n",
       "<table border=\"1\" class=\"dataframe\">\n",
       "  <thead>\n",
       "    <tr style=\"text-align: right;\">\n",
       "      <th></th>\n",
       "      <th>MONTH</th>\n",
       "      <th>USE_AMT</th>\n",
       "    </tr>\n",
       "  </thead>\n",
       "  <tbody>\n",
       "    <tr>\n",
       "      <th>0</th>\n",
       "      <td>2</td>\n",
       "      <td>0.266851</td>\n",
       "    </tr>\n",
       "    <tr>\n",
       "      <th>1</th>\n",
       "      <td>3</td>\n",
       "      <td>0.000000</td>\n",
       "    </tr>\n",
       "    <tr>\n",
       "      <th>2</th>\n",
       "      <td>4</td>\n",
       "      <td>0.266230</td>\n",
       "    </tr>\n",
       "    <tr>\n",
       "      <th>3</th>\n",
       "      <td>5</td>\n",
       "      <td>1.000000</td>\n",
       "    </tr>\n",
       "  </tbody>\n",
       "</table>\n",
       "</div>"
      ],
      "text/plain": [
       "   MONTH   USE_AMT\n",
       "0      2  0.266851\n",
       "1      3  0.000000\n",
       "2      4  0.266230\n",
       "3      5  1.000000"
      ]
     },
     "execution_count": 397,
     "metadata": {},
     "output_type": "execute_result"
    }
   ],
   "source": [
    "sh_2020 = sh_resident.query(\"YEAR=='2020'\")\n",
    "\n",
    "sh_2020_all = sh_2020\n",
    "sh_2020_all = pd.DataFrame(sh_2020_all.groupby('MONTH')['USE_AMT'].sum())\n",
    "sh_2020_all = sh_2020_all.reset_index()\n",
    "\n",
    "# 스케일링\n",
    "min_max_scaler = MinMaxScaler()\n",
    "sh_2020_all[['USE_AMT']] = min_max_scaler.fit_transform(sh_2020_all[['USE_AMT']])\n",
    "sh_2020_all"
   ]
  },
  {
   "cell_type": "code",
   "execution_count": 319,
   "metadata": {},
   "outputs": [
    {
     "data": {
      "text/html": [
       "<div>\n",
       "<style scoped>\n",
       "    .dataframe tbody tr th:only-of-type {\n",
       "        vertical-align: middle;\n",
       "    }\n",
       "\n",
       "    .dataframe tbody tr th {\n",
       "        vertical-align: top;\n",
       "    }\n",
       "\n",
       "    .dataframe thead th {\n",
       "        text-align: right;\n",
       "    }\n",
       "</style>\n",
       "<table border=\"1\" class=\"dataframe\">\n",
       "  <thead>\n",
       "    <tr style=\"text-align: right;\">\n",
       "      <th></th>\n",
       "      <th>MONTH</th>\n",
       "      <th>USE_AMT</th>\n",
       "    </tr>\n",
       "  </thead>\n",
       "  <tbody>\n",
       "    <tr>\n",
       "      <th>0</th>\n",
       "      <td>2</td>\n",
       "      <td>0.095400</td>\n",
       "    </tr>\n",
       "    <tr>\n",
       "      <th>1</th>\n",
       "      <td>3</td>\n",
       "      <td>0.000000</td>\n",
       "    </tr>\n",
       "    <tr>\n",
       "      <th>2</th>\n",
       "      <td>4</td>\n",
       "      <td>0.220976</td>\n",
       "    </tr>\n",
       "    <tr>\n",
       "      <th>3</th>\n",
       "      <td>5</td>\n",
       "      <td>1.000000</td>\n",
       "    </tr>\n",
       "  </tbody>\n",
       "</table>\n",
       "</div>"
      ],
      "text/plain": [
       "   MONTH   USE_AMT\n",
       "0      2  0.095400\n",
       "1      3  0.000000\n",
       "2      4  0.220976\n",
       "3      5  1.000000"
      ]
     },
     "execution_count": 319,
     "metadata": {},
     "output_type": "execute_result"
    }
   ],
   "source": [
    "sh_2020_seoul = sh_2020.query(\"SI_CODE=='11'\")\n",
    "\n",
    "sh_2020_seoul = pd.DataFrame(sh_2020_seoul.groupby('MONTH')['USE_AMT'].sum())\n",
    "sh_2020_seoul = sh_2020_seoul.reset_index()\n",
    "\n",
    "# 스케일링\n",
    "min_max_scaler = MinMaxScaler()\n",
    "sh_2020_seoul[['USE_AMT']] = min_max_scaler.fit_transform(sh_2020_seoul[['USE_AMT']])\n",
    "sh_2020_seoul"
   ]
  },
  {
   "cell_type": "code",
   "execution_count": 320,
   "metadata": {},
   "outputs": [
    {
     "data": {
      "text/html": [
       "<div>\n",
       "<style scoped>\n",
       "    .dataframe tbody tr th:only-of-type {\n",
       "        vertical-align: middle;\n",
       "    }\n",
       "\n",
       "    .dataframe tbody tr th {\n",
       "        vertical-align: top;\n",
       "    }\n",
       "\n",
       "    .dataframe thead th {\n",
       "        text-align: right;\n",
       "    }\n",
       "</style>\n",
       "<table border=\"1\" class=\"dataframe\">\n",
       "  <thead>\n",
       "    <tr style=\"text-align: right;\">\n",
       "      <th></th>\n",
       "      <th>MONTH</th>\n",
       "      <th>USE_AMT</th>\n",
       "    </tr>\n",
       "  </thead>\n",
       "  <tbody>\n",
       "    <tr>\n",
       "      <th>0</th>\n",
       "      <td>2</td>\n",
       "      <td>0.502022</td>\n",
       "    </tr>\n",
       "    <tr>\n",
       "      <th>1</th>\n",
       "      <td>3</td>\n",
       "      <td>0.000000</td>\n",
       "    </tr>\n",
       "    <tr>\n",
       "      <th>2</th>\n",
       "      <td>4</td>\n",
       "      <td>0.328302</td>\n",
       "    </tr>\n",
       "    <tr>\n",
       "      <th>3</th>\n",
       "      <td>5</td>\n",
       "      <td>1.000000</td>\n",
       "    </tr>\n",
       "  </tbody>\n",
       "</table>\n",
       "</div>"
      ],
      "text/plain": [
       "   MONTH   USE_AMT\n",
       "0      2  0.502022\n",
       "1      3  0.000000\n",
       "2      4  0.328302\n",
       "3      5  1.000000"
      ]
     },
     "execution_count": 320,
     "metadata": {},
     "output_type": "execute_result"
    }
   ],
   "source": [
    "sh_2020_daegu = sh_2020.query(\"SI_CODE=='27'\")\n",
    "\n",
    "sh_2020_daegu = pd.DataFrame(sh_2020_daegu.groupby('MONTH')['USE_AMT'].sum())\n",
    "sh_2020_daegu = sh_2020_daegu.reset_index()\n",
    "\n",
    "# 스케일링\n",
    "min_max_scaler = MinMaxScaler()\n",
    "sh_2020_daegu[['USE_AMT']] = min_max_scaler.fit_transform(sh_2020_daegu[['USE_AMT']])\n",
    "sh_2020_daegu"
   ]
  },
  {
   "cell_type": "markdown",
   "metadata": {},
   "source": [
    "### 8. 지표와 상관관계 그려보기"
   ]
  },
  {
   "cell_type": "code",
   "execution_count": 321,
   "metadata": {},
   "outputs": [],
   "source": [
    "def corr(dataframe, sk_dataframe, sh_dataframe):\n",
    "\n",
    "    origin = pd.DataFrame({'COVID':dataframe.tolist(), 'POP':sk_dataframe.tolist(), 'AMT':sh_dataframe.tolist()})\n",
    "    origin_df = origin.corr()\n",
    "\n",
    "    plt.figure(figsize=(8,8))\n",
    "\n",
    "    mask = np.zeros_like(origin_df, dtype=np.bool)\n",
    "    mask[np.triu_indices_from(mask)] = True\n",
    "\n",
    "    sns.heatmap(origin_df, annot=True, fmt = '.2f', linewidths=.5, cmap='RdYlBu_r', mask=mask, annot_kws={\"fontsize\":15})\n",
    "    plt.show()"
   ]
  },
  {
   "cell_type": "code",
   "execution_count": 399,
   "metadata": {},
   "outputs": [
    {
     "data": {
      "image/png": "[encoded data removed]",
      "text/plain": [
       "<Figure size 576x576 with 2 Axes>"
      ]
     },
     "metadata": {
      "needs_background": "light"
     },
     "output_type": "display_data"
    }
   ],
   "source": [
    "# 전체\n",
    "corr(month_concat_all['INDEX'], sk_2020_all['SUM'], sh_2020_all['USE_AMT'])\n",
    "\n",
    "# 문제점 \n",
    "# 만든 지표는 전국에 대한 데이터 BUT SK데이터와 SH 데이터는 서울/대구를 합한 것"
   ]
  },
  {
   "cell_type": "code",
   "execution_count": 388,
   "metadata": {},
   "outputs": [
    {
     "data": {
      "image/png": "[encoded data removed]",
      "text/plain": [
       "<Figure size 576x576 with 2 Axes>"
      ]
     },
     "metadata": {
      "needs_background": "light"
     },
     "output_type": "display_data"
    }
   ],
   "source": [
    "# 서울\n",
    "corr(month_concat_seoul['INDEX'], sk_2020_seoul['SUM'], sh_2020_seoul['USE_AMT'])"
   ]
  },
  {
   "cell_type": "code",
   "execution_count": 389,
   "metadata": {
    "scrolled": false
   },
   "outputs": [
    {
     "data": {
      "image/png": "[encoded data removed]",
      "text/plain": [
       "<Figure size 576x576 with 2 Axes>"
      ]
     },
     "metadata": {
      "needs_background": "light"
     },
     "output_type": "display_data"
    }
   ],
   "source": [
    "# 대구\n",
    "corr(month_concat_daegu['INDEX'], sk_2020_daegu['SUM'], sh_2020_daegu['USE_AMT'])"
   ]
  },
  {
   "cell_type": "markdown",
   "metadata": {},
   "source": [
    "### 9. 확진자수와 sk/sh 비교하기"
   ]
  },
  {
   "cell_type": "code",
   "execution_count": 400,
   "metadata": {},
   "outputs": [
    {
     "data": {
      "image/png": "[encoded data removed]",
      "text/plain": [
       "<Figure size 576x576 with 2 Axes>"
      ]
     },
     "metadata": {
      "needs_background": "light"
     },
     "output_type": "display_data"
    }
   ],
   "source": [
    "# 전체\n",
    "corr(all_month_num['NUM'], sk_2020_all['SUM'], sh_2020_all['USE_AMT'])\n",
    "# 문제점 \n",
    "# 확진자수는 전국에 대한 데이터 BUT SK데이터와 SH 데이터는 서울/대구를 합한 것"
   ]
  },
  {
   "cell_type": "code",
   "execution_count": 329,
   "metadata": {},
   "outputs": [
    {
     "data": {
      "image/png": "[encoded data removed]",
      "text/plain": [
       "<Figure size 576x576 with 2 Axes>"
      ]
     },
     "metadata": {
      "needs_background": "light"
     },
     "output_type": "display_data"
    }
   ],
   "source": [
    "# 서울\n",
    "corr(seoul_month_num['NUM'], sk_2020_seoul['SUM'], sh_2020_seoul['USE_AMT'])"
   ]
  },
  {
   "cell_type": "code",
   "execution_count": 330,
   "metadata": {},
   "outputs": [
    {
     "data": {
      "image/png": "[encoded data removed]",
      "text/plain": [
       "<Figure size 576x576 with 2 Axes>"
      ]
     },
     "metadata": {
      "needs_background": "light"
     },
     "output_type": "display_data"
    }
   ],
   "source": [
    "# 대구\n",
    "corr(daegu_month_num['NUM'], sk_2020_daegu['SUM'], sh_2020_daegu['USE_AMT'])"
   ]
  }
 ],
 "metadata": {
  "kernelspec": {
   "display_name": "Python 3",
   "language": "python",
   "name": "python3"
  },
  "language_info": {
   "codemirror_mode": {
    "name": "ipython",
    "version": 3
   },
   "file_extension": ".py",
   "mimetype": "text/x-python",
   "name": "python",
   "nbconvert_exporter": "python",
   "pygments_lexer": "ipython3",
   "version": "3.7.9"
  }
 },
 "nbformat": 4,
 "nbformat_minor": 4
}
