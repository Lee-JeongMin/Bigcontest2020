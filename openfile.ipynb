{
 "cells": [
  {
   "cell_type": "code",
   "execution_count": 1,
   "metadata": {},
   "outputs": [],
   "source": [
    "import pickle\n",
    "import numpy as np\n",
    "import pandas as pd\n",
    "import matplotlib.pyplot as plt\n",
    "import seaborn as sns"
   ]
  },
  {
   "cell_type": "code",
   "execution_count": 6,
   "metadata": {},
   "outputs": [],
   "source": [
    "path= './dataset/BIGCON_DATA_ver1.2'"
   ]
  },
  {
   "cell_type": "code",
   "execution_count": 7,
   "metadata": {},
   "outputs": [],
   "source": [
    "with open(path+'/CJ_DATA.bin', 'rb') as f:\n",
    "    cj = pickle.load(f)\n",
    "\n",
    "with open(path+'/GS_DATA.bin', 'rb') as f:\n",
    "    gs = pickle.load(f)\n",
    "    \n",
    "with open(path+'/SH_DATA.bin', 'rb') as f:\n",
    "    sh = pickle.load(f)\n",
    "    \n",
    "with open(path+'/SK_DATA.bin', 'rb') as f:\n",
    "    sk = pickle.load(f)\n",
    "    \n",
    "with open(path+'/WS_DATA.bin', 'rb') as f:\n",
    "    ws = pickle.load(f)"
   ]
  },
  {
   "cell_type": "code",
   "execution_count": 8,
   "metadata": {},
   "outputs": [
    {
     "name": "stdout",
     "output_type": "stream",
     "text": [
      "dict_keys(['CJ_DATA', 'ITEM_CODE_DICT', 'COL_CHANGE_DICT', 'GEO_CODE_DICT'])\n",
      "--------------------------------------------------------------------------------\n",
      "dict_keys(['GS_TOTAL', 'GS_CATEGORY', 'GS_DONG', 'ITEM_CODE_DICT', 'COL_CHANGE_DICT', 'GEO_CODE_DICT'])\n",
      "--------------------------------------------------------------------------------\n",
      "dict_keys(['SH_RESIDENT', 'SH_FOREIGN', 'INDUSTRY_CODE_DICT', 'COL_CHANGE_DICT', 'GEO_CODE_DICT'])\n",
      "--------------------------------------------------------------------------------\n",
      "dict_keys(['SK_AGE', 'SK_TIME', 'COL_CHANGE_DICT', 'GEO_CODE_DICT'])\n",
      "--------------------------------------------------------------------------------\n",
      "dict_keys(['WS_MENTION', 'WS_SENTIMENT', 'WS_TOPIC', 'COL_CHANGE_DICT', 'INDUSTRY_CODE_DICT', 'GEO_CODE_DICT'])\n"
     ]
    }
   ],
   "source": [
    "print(cj.keys())\n",
    "print('-'*80)\n",
    "print(gs.keys())\n",
    "print('-'*80)\n",
    "print(sh.keys())\n",
    "print('-'*80)\n",
    "print(sk.keys())\n",
    "print('-'*80)\n",
    "print(ws.keys())"
   ]
  },
  {
   "cell_type": "code",
   "execution_count": 9,
   "metadata": {},
   "outputs": [],
   "source": [
    "# cj data\n",
    "cj_data= cj['CJ_DATA']\n",
    "\n",
    "# gs data\n",
    "gs_total_data= gs['GS_TOTAL']\n",
    "gs_category_data= gs['GS_CATEGORY']\n",
    "gs_dong_data= gs['GS_DONG']\n",
    "\n",
    "# sh data\n",
    "sh_resident_data= sh['SH_RESIDENT']\n",
    "sh_foreign_data= sh['SH_FOREIGN']\n",
    "\n",
    "# sk data\n",
    "sk_age_data= sk['SK_AGE']\n",
    "sk_time_data= sk['SK_TIME']\n",
    "\n",
    "# ws data\n",
    "ws_mention_data= ws['WS_MENTION']\n",
    "ws_sentiment_data= ws['WS_SENTIMENT']\n",
    "ws_topic_data= ws['WS_TOPIC']"
   ]
  },
  {
   "cell_type": "code",
   "execution_count": null,
   "metadata": {},
   "outputs": [],
   "source": []
  }
 ],
 "metadata": {
  "kernelspec": {
   "display_name": "Python 3",
   "language": "python",
   "name": "python3"
  },
  "language_info": {
   "codemirror_mode": {
    "name": "ipython",
    "version": 3
   },
   "file_extension": ".py",
   "mimetype": "text/x-python",
   "name": "python",
   "nbconvert_exporter": "python",
   "pygments_lexer": "ipython3",
   "version": "3.8.3"
  }
 },
 "nbformat": 4,
 "nbformat_minor": 4
}
