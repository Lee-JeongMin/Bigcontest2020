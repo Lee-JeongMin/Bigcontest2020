{
 "cells": [
  {
   "cell_type": "code",
   "execution_count": 1,
   "metadata": {
    "colab": {},
    "colab_type": "code",
    "id": "Vr-B76Aco0de",
    "outputId": "8ec7b86c-4a83-4537-d0f4-f11a9b1308c1"
   },
   "outputs": [
    {
     "data": {
      "text/html": [
       "<style>.container { width:90% !important; }</style>"
      ],
      "text/plain": [
       "<IPython.core.display.HTML object>"
      ]
     },
     "metadata": {},
     "output_type": "display_data"
    }
   ],
   "source": [
    "from IPython.core.display import display, HTML\n",
    "display(HTML(\"<style>.container { width:90% !important; }</style>\"))"
   ]
  },
  {
   "cell_type": "code",
   "execution_count": 2,
   "metadata": {
    "colab": {
     "base_uri": "https://localhost:8080/",
     "height": 53
    },
    "colab_type": "code",
    "executionInfo": {
     "elapsed": 1909,
     "status": "ok",
     "timestamp": 1599550533123,
     "user": {
      "displayName": "Hyunjun Lee",
      "photoUrl": "",
      "userId": "08145359513939880305"
     },
     "user_tz": -540
    },
    "id": "RqWk6yb6o0dj",
    "outputId": "b6ace39d-d0d5-4f1f-83c2-9bdf1371d647"
   },
   "outputs": [],
   "source": [
    "import pickle\n",
    "import matplotlib.pyplot as plt\n",
    "import numpy as np\n",
    "import seaborn as sns \n",
    "import pandas as pd\n",
    "import datetime as dt"
   ]
  },
  {
   "cell_type": "code",
   "execution_count": 3,
   "metadata": {
    "colab": {},
    "colab_type": "code",
    "id": "IIYgxXkWo0dl"
   },
   "outputs": [],
   "source": [
    "# 한글 깨짐 현상을 해결\n",
    "import matplotlib\n",
    "matplotlib.rcParams['font.family'] = 'Malgun Gothic'\n",
    "matplotlib.rcParams['axes.unicode_minus'] = False"
   ]
  },
  {
   "cell_type": "code",
   "execution_count": 5,
   "metadata": {
    "colab": {
     "base_uri": "https://localhost:8080/",
     "height": 244
    },
    "colab_type": "code",
    "executionInfo": {
     "elapsed": 761,
     "status": "error",
     "timestamp": 1599550537798,
     "user": {
      "displayName": "Hyunjun Lee",
      "photoUrl": "",
      "userId": "08145359513939880305"
     },
     "user_tz": -540
    },
    "id": "rNEoeEOdo0do",
    "outputId": "2c2bb9ac-2295-4729-8810-d2e6b3e37988"
   },
   "outputs": [],
   "source": [
    "with open('../dataset/BIGCON_DATA_ver1.2/SK_DATA.bin', 'rb') as f:\n",
    "    sk_data = pickle.load(f) \n",
    "with open('../dataset/BIGCON_DATA_ver1.2/SH_DATA.bin', 'rb') as f:\n",
    "    sh_data = pickle.load(f) \n",
    "    \n",
    "# sk 데이터\n",
    "sk_age = sk_data['SK_AGE']\n",
    "sk_time = sk_data['SK_TIME']\n",
    "\n",
    "# sh 데이터\n",
    "sh_resident = sh_data['SH_RESIDENT']\n",
    "sh_foreign = sh_data['SH_FOREIGN']"
   ]
  },
  {
   "cell_type": "markdown",
   "metadata": {
    "colab_type": "text",
    "id": "bJYgNquuo0dr"
   },
   "source": [
    "* [sk](#sk)\n",
    "* [sh](#sh)\n",
    "* [corr](#corr-함수)\n",
    "* [main](#main)\n",
    "* [scatter plot](#scatter-plot)"
   ]
  },
  {
   "cell_type": "markdown",
   "metadata": {},
   "source": [
    "## Score"
   ]
  },
  {
   "cell_type": "code",
   "execution_count": 18,
   "metadata": {},
   "outputs": [],
   "source": [
    "formula_1= pd.read_csv('../dataset/wordcloud_formula1.csv')"
   ]
  },
  {
   "cell_type": "code",
   "execution_count": 19,
   "metadata": {},
   "outputs": [],
   "source": [
    "formula_1= formula_1.rename(columns={'Unnamed: 0': 'DATE'})\n",
    "formula_1.DATE= formula_1.DATE.astype('datetime64')"
   ]
  },
  {
   "cell_type": "code",
   "execution_count": null,
   "metadata": {},
   "outputs": [],
   "source": [
    "np.round(np.log(np.abs(1+num[1][1]))/ ((i+1)* (np.log10(1/duration)+0.005)),3)"
   ]
  },
  {
   "cell_type": "code",
   "execution_count": 56,
   "metadata": {},
   "outputs": [
    {
     "data": {
      "text/html": [
       "<div>\n",
       "<style scoped>\n",
       "    .dataframe tbody tr th:only-of-type {\n",
       "        vertical-align: middle;\n",
       "    }\n",
       "\n",
       "    .dataframe tbody tr th {\n",
       "        vertical-align: top;\n",
       "    }\n",
       "\n",
       "    .dataframe thead th {\n",
       "        text-align: right;\n",
       "    }\n",
       "</style>\n",
       "<table border=\"1\" class=\"dataframe\">\n",
       "  <thead>\n",
       "    <tr style=\"text-align: right;\">\n",
       "      <th></th>\n",
       "      <th>DATE</th>\n",
       "      <th>확진자수</th>\n",
       "      <th>사건해당횟수</th>\n",
       "      <th>사건지속기간</th>\n",
       "    </tr>\n",
       "  </thead>\n",
       "  <tbody>\n",
       "    <tr>\n",
       "      <th>0</th>\n",
       "      <td>2020-02-01</td>\n",
       "      <td>1</td>\n",
       "      <td>0</td>\n",
       "      <td>0</td>\n",
       "    </tr>\n",
       "    <tr>\n",
       "      <th>1</th>\n",
       "      <td>2020-02-02</td>\n",
       "      <td>3</td>\n",
       "      <td>0</td>\n",
       "      <td>0</td>\n",
       "    </tr>\n",
       "    <tr>\n",
       "      <th>2</th>\n",
       "      <td>2020-02-03</td>\n",
       "      <td>0</td>\n",
       "      <td>0</td>\n",
       "      <td>0</td>\n",
       "    </tr>\n",
       "    <tr>\n",
       "      <th>3</th>\n",
       "      <td>2020-02-04</td>\n",
       "      <td>1</td>\n",
       "      <td>0</td>\n",
       "      <td>0</td>\n",
       "    </tr>\n",
       "    <tr>\n",
       "      <th>4</th>\n",
       "      <td>2020-02-05</td>\n",
       "      <td>3</td>\n",
       "      <td>0</td>\n",
       "      <td>0</td>\n",
       "    </tr>\n",
       "    <tr>\n",
       "      <th>...</th>\n",
       "      <td>...</td>\n",
       "      <td>...</td>\n",
       "      <td>...</td>\n",
       "      <td>...</td>\n",
       "    </tr>\n",
       "    <tr>\n",
       "      <th>116</th>\n",
       "      <td>2020-05-27</td>\n",
       "      <td>79</td>\n",
       "      <td>7</td>\n",
       "      <td>2</td>\n",
       "    </tr>\n",
       "    <tr>\n",
       "      <th>117</th>\n",
       "      <td>2020-05-28</td>\n",
       "      <td>58</td>\n",
       "      <td>7</td>\n",
       "      <td>3</td>\n",
       "    </tr>\n",
       "    <tr>\n",
       "      <th>118</th>\n",
       "      <td>2020-05-29</td>\n",
       "      <td>39</td>\n",
       "      <td>7</td>\n",
       "      <td>4</td>\n",
       "    </tr>\n",
       "    <tr>\n",
       "      <th>119</th>\n",
       "      <td>2020-05-30</td>\n",
       "      <td>27</td>\n",
       "      <td>7</td>\n",
       "      <td>5</td>\n",
       "    </tr>\n",
       "    <tr>\n",
       "      <th>120</th>\n",
       "      <td>2020-05-31</td>\n",
       "      <td>35</td>\n",
       "      <td>7</td>\n",
       "      <td>6</td>\n",
       "    </tr>\n",
       "  </tbody>\n",
       "</table>\n",
       "<p>121 rows × 4 columns</p>\n",
       "</div>"
      ],
      "text/plain": [
       "          DATE  확진자수  사건해당횟수  사건지속기간\n",
       "0   2020-02-01     1       0       0\n",
       "1   2020-02-02     3       0       0\n",
       "2   2020-02-03     0       0       0\n",
       "3   2020-02-04     1       0       0\n",
       "4   2020-02-05     3       0       0\n",
       "..         ...   ...     ...     ...\n",
       "116 2020-05-27    79       7       2\n",
       "117 2020-05-28    58       7       3\n",
       "118 2020-05-29    39       7       4\n",
       "119 2020-05-30    27       7       5\n",
       "120 2020-05-31    35       7       6\n",
       "\n",
       "[121 rows x 4 columns]"
      ]
     },
     "execution_count": 56,
     "metadata": {},
     "output_type": "execute_result"
    }
   ],
   "source": [
    "formula_1"
   ]
  },
  {
   "cell_type": "code",
   "execution_count": 57,
   "metadata": {},
   "outputs": [],
   "source": [
    "seoul_score= formula_1.assign(SCORE= np.round(np.log(np.abs(1+formula_1['확진자수'])) / ((formula_1['사건해당횟수']+1)* (np.log10(1/formula_1['사건지속기간'])+0.005)),3))"
   ]
  },
  {
   "cell_type": "code",
   "execution_count": 58,
   "metadata": {},
   "outputs": [],
   "source": [
    "seoul_score['YO'] = seoul_score['DATE'].map(lambda x: x.weekday())"
   ]
  },
  {
   "cell_type": "code",
   "execution_count": 59,
   "metadata": {},
   "outputs": [],
   "source": [
    "# 월요일\n",
    "seoul_score_mon= seoul_score.query('YO==0')\n",
    "# 화요일\n",
    "seoul_score_tue= seoul_score.query('YO==1')\n",
    "# 수요일\n",
    "seoul_score_wed= seoul_score.query('YO==2')\n",
    "# 목요일\n",
    "seoul_score_thu= seoul_score.query('YO==3')\n",
    "# 금요일\n",
    "seoul_score_fri= seoul_score.query('YO==4')\n",
    "# 토요일\n",
    "seoul_score_sat= seoul_score.query('YO==5')\n",
    "# 일요일\n",
    "seoul_score_sun= seoul_score.query('YO==6')"
   ]
  },
  {
   "cell_type": "markdown",
   "metadata": {
    "colab_type": "text",
    "id": "ZOcl39pJo0dr"
   },
   "source": [
    "#### sk"
   ]
  },
  {
   "cell_type": "code",
   "execution_count": 6,
   "metadata": {
    "colab": {},
    "colab_type": "code",
    "id": "l3x6_CUGo0ds"
   },
   "outputs": [],
   "source": [
    "# 유동인구 일별 그래프\n",
    "def sksk(df, flag, code):\n",
    "    \n",
    "    if flag:\n",
    "        sk_s = df.query('(SI_CODE==@code)')\n",
    "    else:\n",
    "        sk_s = df\n",
    "        \n",
    "    age_col_list = sk_s.columns.values.tolist()\n",
    "    age_col_list = age_col_list[7:22]\n",
    "\n",
    "    temp_df = pd.DataFrame(sk_s.groupby(['DATE'])[age_col_list].sum())\n",
    "    temp_df = temp_df.sum(axis=1)\n",
    "    temp_df = temp_df.to_frame(name='Popul')\n",
    "    pop_df = temp_df.reset_index()\n",
    "    pop_df['YO'] = pop_df['DATE'].map(lambda x: x.weekday())\n",
    "    \n",
    "    # 2020년만 해당하도록 함\n",
    "    pop_20 = pop_df.tail(121)\n",
    "    \n",
    "    # 그래프 보고싶으면 주석처리 빼기\n",
    "#     draw(pop_20, 'DATE', 'Popul')\n",
    "    \n",
    "    return pop_20"
   ]
  },
  {
   "cell_type": "markdown",
   "metadata": {
    "colab_type": "text",
    "id": "fGdTxSh8o0du"
   },
   "source": [
    "#### sh"
   ]
  },
  {
   "cell_type": "code",
   "execution_count": 7,
   "metadata": {
    "colab": {},
    "colab_type": "code",
    "id": "bj5P_8D1o0dv"
   },
   "outputs": [],
   "source": [
    "# 매출액 일별 그래프\n",
    "def shsh(df, flag, code):\n",
    "    \n",
    "    if flag:\n",
    "        sh_s = df.query('(SI_CODE==@code)')\n",
    "    else:\n",
    "        sh_s = df\n",
    "    \n",
    "    temp_df = pd.DataFrame(sh_s.groupby(['DATE'])['USE_AMT'].sum())\n",
    "    amt_df = temp_df.reset_index()\n",
    "    amt_df['YO'] = amt_df['DATE'].map(lambda x: x.weekday())\n",
    "    \n",
    "    # 2020년만 해당하도록 함\n",
    "    amt_20 = amt_df.tail(121)\n",
    "    \n",
    "    # 그래프 보고싶으면 주석처리 빼기\n",
    "#     draw(amt_20, 'DATE', 'USE_AMT')\n",
    "    \n",
    "    return amt_20"
   ]
  },
  {
   "cell_type": "code",
   "execution_count": 8,
   "metadata": {
    "colab": {},
    "colab_type": "code",
    "id": "Uv8SWWSeo0dx"
   },
   "outputs": [],
   "source": [
    "def draw(df, x_col, y_col):\n",
    "    label = df[x_col]\n",
    "    index = range(len(label))\n",
    "\n",
    "    plt.figure(figsize=(30,10))\n",
    "    plt.plot(index, df[y_col], '>-')\n",
    "    plt.xticks(index[::7], label[::7], rotation='45')\n",
    "    plt.grid(axis='x')\n",
    "    plt.show()"
   ]
  },
  {
   "cell_type": "markdown",
   "metadata": {
    "colab_type": "text",
    "id": "J8IQNrOfo0d0"
   },
   "source": [
    "#### corr 함수"
   ]
  },
  {
   "cell_type": "code",
   "execution_count": 9,
   "metadata": {
    "colab": {},
    "colab_type": "code",
    "id": "nJlrFk-Jo0d1"
   },
   "outputs": [],
   "source": [
    "def corr(dataframe, sk_dataframe, sh_dataframe):\n",
    "    \n",
    "    # Series로 넣는 경우는 .tolist()가 필요\n",
    "    # list로 넣는경우는 .tolist() 삭제\n",
    "    origin = pd.DataFrame({'covid':dataframe.tolist(), 'pop':sk_dataframe.tolist(), 'amt':sh_dataframe.tolist()})\n",
    "    origin_df = origin.corr()\n",
    "\n",
    "    plt.figure(figsize=(8,8))\n",
    "\n",
    "    mask = np.zeros_like(origin_df, dtype=np.bool)\n",
    "    mask[np.triu_indices_from(mask)] = True\n",
    "\n",
    "    sns.heatmap(origin_df, annot=True, fmt = '.2f', linewidths=.5, cmap='RdYlBu_r', mask=mask, annot_kws={\"fontsize\":15})\n",
    "    plt.show()"
   ]
  },
  {
   "cell_type": "markdown",
   "metadata": {
    "colab_type": "text",
    "id": "EyCpJRZ_o0d3"
   },
   "source": [
    "### main"
   ]
  },
  {
   "cell_type": "code",
   "execution_count": 10,
   "metadata": {
    "colab": {},
    "colab_type": "code",
    "id": "XJAj0AYro0d3"
   },
   "outputs": [],
   "source": [
    "# 유동인구 \n",
    "\n",
    "# 2020년 전체(서울+대구)\n",
    "total_sk = sksk(sk_age, False, '00')\n",
    "\n",
    "# 2020년 서울\n",
    "seoul_sk = sksk(sk_age, True, '11')\n",
    "\n",
    "# 2020년 대구\n",
    "daegu_sk = sksk(sk_age, True, '27')"
   ]
  },
  {
   "cell_type": "code",
   "execution_count": 11,
   "metadata": {
    "colab": {},
    "colab_type": "code",
    "id": "xXNu8Z_6o0d6"
   },
   "outputs": [],
   "source": [
    "# 매출액\n",
    "\n",
    "# 2020년 전체(서울+대구)\n",
    "total_sh = shsh(sh_resident, False, '00')\n",
    "\n",
    "# 2020년 서울\n",
    "seoul_sh = shsh(sh_resident, True, '11')\n",
    "\n",
    "# 2020년 대구\n",
    "daegu_sh = shsh(sh_resident, True, '27')"
   ]
  },
  {
   "cell_type": "code",
   "execution_count": 60,
   "metadata": {
    "colab": {},
    "colab_type": "code",
    "id": "b6I9uf5Po0d8",
    "outputId": "81afcba9-edb6-450a-9ab8-49922267152e"
   },
   "outputs": [
    {
     "data": {
      "image/png": "[encoded data removed]",
      "text/plain": [
       "<Figure size 576x576 with 2 Axes>"
      ]
     },
     "metadata": {
      "needs_background": "light"
     },
     "output_type": "display_data"
    }
   ],
   "source": [
    "# dataframe = 지표\n",
    "# sk_dataframe = total_sk / seoul_sk / daegu_sk \n",
    "# sh_dataframe = total_sh / seoul_sh / daegu_sh \n",
    "\n",
    "corr(seoul_score['SCORE'], seoul_sk['Popul'], seoul_sh['USE_AMT'])"
   ]
  },
  {
   "cell_type": "code",
   "execution_count": 51,
   "metadata": {},
   "outputs": [],
   "source": [
    "# 서울 유동인구\n",
    "# 월요일\n",
    "seoul_sk_mon= seoul_sk.query('YO==0')\n",
    "# 화요일\n",
    "seoul_sk_tue= seoul_sk.query('YO==1')\n",
    "# 수요일\n",
    "seoul_sk_wed= seoul_sk.query('YO==2')\n",
    "# 목요일\n",
    "seoul_sk_thu= seoul_sk.query('YO==3')\n",
    "# 금요일\n",
    "seoul_sk_fri= seoul_sk.query('YO==4')\n",
    "# 토요일\n",
    "seoul_sk_sat= seoul_sk.query('YO==5')\n",
    "# 일요일\n",
    "seoul_sk_sun= seoul_sk.query('YO==6')"
   ]
  },
  {
   "cell_type": "code",
   "execution_count": 52,
   "metadata": {},
   "outputs": [],
   "source": [
    "# 서울 매출액\n",
    "# 월요일\n",
    "seoul_sh_mon= seoul_sh.query('YO==0')\n",
    "# 화요일\n",
    "seoul_sh_tue= seoul_sh.query('YO==1')\n",
    "# 수요일\n",
    "seoul_sh_wed= seoul_sh.query('YO==2')\n",
    "# 목요일\n",
    "seoul_sh_thu= seoul_sh.query('YO==3')\n",
    "# 금요일\n",
    "seoul_sh_fri= seoul_sh.query('YO==4')\n",
    "# 토요일\n",
    "seoul_sh_sat= seoul_sh.query('YO==5')\n",
    "# 일요일\n",
    "seoul_sh_sun= seoul_sh.query('YO==6')"
   ]
  },
  {
   "cell_type": "markdown",
   "metadata": {},
   "source": [
    "# 요일별 Score"
   ]
  },
  {
   "cell_type": "code",
   "execution_count": 61,
   "metadata": {},
   "outputs": [
    {
     "data": {
      "image/png": "[encoded data removed]",
      "text/plain": [
       "<Figure size 576x576 with 2 Axes>"
      ]
     },
     "metadata": {
      "needs_background": "light"
     },
     "output_type": "display_data"
    }
   ],
   "source": [
    "# 월요일\n",
    "corr(seoul_score_mon['SCORE'], seoul_sk_mon['Popul'], seoul_sh_mon['USE_AMT'])"
   ]
  },
  {
   "cell_type": "code",
   "execution_count": 64,
   "metadata": {},
   "outputs": [
    {
     "data": {
      "image/png": "[encoded data removed]",
      "text/plain": [
       "<Figure size 576x576 with 2 Axes>"
      ]
     },
     "metadata": {
      "needs_background": "light"
     },
     "output_type": "display_data"
    }
   ],
   "source": [
    "# 화요일\n",
    "corr(seoul_score_tue['SCORE'], seoul_sk_tue['Popul'], seoul_sh_tue['USE_AMT'])"
   ]
  },
  {
   "cell_type": "code",
   "execution_count": 65,
   "metadata": {},
   "outputs": [
    {
     "data": {
      "image/png": "[encoded data removed]",
      "text/plain": [
       "<Figure size 576x576 with 2 Axes>"
      ]
     },
     "metadata": {
      "needs_background": "light"
     },
     "output_type": "display_data"
    }
   ],
   "source": [
    "# 수요일\n",
    "corr(seoul_score_wed['SCORE'], seoul_sk_wed['Popul'], seoul_sh_wed['USE_AMT'])"
   ]
  },
  {
   "cell_type": "code",
   "execution_count": 66,
   "metadata": {},
   "outputs": [
    {
     "data": {
      "image/png": "[encoded data removed]",
      "text/plain": [
       "<Figure size 576x576 with 2 Axes>"
      ]
     },
     "metadata": {
      "needs_background": "light"
     },
     "output_type": "display_data"
    }
   ],
   "source": [
    "# 목요일\n",
    "corr(seoul_score_thu['SCORE'], seoul_sk_thu['Popul'], seoul_sh_thu['USE_AMT'])"
   ]
  },
  {
   "cell_type": "code",
   "execution_count": 67,
   "metadata": {},
   "outputs": [
    {
     "data": {
      "image/png": "[encoded data removed]",
      "text/plain": [
       "<Figure size 576x576 with 2 Axes>"
      ]
     },
     "metadata": {
      "needs_background": "light"
     },
     "output_type": "display_data"
    }
   ],
   "source": [
    "# 금요일\n",
    "corr(seoul_score_fri['SCORE'], seoul_sk_fri['Popul'], seoul_sh_fri['USE_AMT'])"
   ]
  },
  {
   "cell_type": "code",
   "execution_count": 70,
   "metadata": {},
   "outputs": [
    {
     "data": {
      "image/png": "[encoded data removed]",
      "text/plain": [
       "<Figure size 576x576 with 2 Axes>"
      ]
     },
     "metadata": {
      "needs_background": "light"
     },
     "output_type": "display_data"
    }
   ],
   "source": [
    "# 토요일\n",
    "corr(seoul_score_sat['SCORE'], seoul_sk_sat['Popul'], seoul_sh_sat['USE_AMT'])"
   ]
  },
  {
   "cell_type": "code",
   "execution_count": 71,
   "metadata": {},
   "outputs": [
    {
     "data": {
      "image/png": "[encoded data removed]",
      "text/plain": [
       "<Figure size 576x576 with 2 Axes>"
      ]
     },
     "metadata": {
      "needs_background": "light"
     },
     "output_type": "display_data"
    }
   ],
   "source": [
    "# 일요일\n",
    "corr(seoul_score_sun['SCORE'], seoul_sk_sun['Popul'], seoul_sh_sun['USE_AMT'])"
   ]
  },
  {
   "cell_type": "markdown",
   "metadata": {
    "colab_type": "text",
    "id": "yRQVdBwzo0d_"
   },
   "source": [
    "#### scatter plot"
   ]
  },
  {
   "cell_type": "code",
   "execution_count": 15,
   "metadata": {
    "colab": {},
    "colab_type": "code",
    "id": "gcOPGbB4o0d_",
    "outputId": "7f3ddb2a-4461-475e-d733-d2cd442d996a",
    "scrolled": false
   },
   "outputs": [
    {
     "data": {
      "image/png": "[encoded data removed]",
      "text/plain": [
       "<Figure size 720x504 with 1 Axes>"
      ]
     },
     "metadata": {
      "needs_background": "light"
     },
     "output_type": "display_data"
    }
   ],
   "source": [
    "def scatter(df1, df2, x_col, y_col):\n",
    "    plt.figure(figsize=(10,7))\n",
    "    df1['DATE'] = df1['DATE'].astype(str)\n",
    "    df2['DATE'] = df2['DATE'].astype(str)\n",
    "    \n",
    "    sns.scatterplot(x=x_col, \n",
    "                    y=y_col, \n",
    "                    s=100, # marker size\n",
    "                    data = pd.merge(df1, df2, on='DATE'))\n",
    "\n",
    "    plt.show()\n",
    "\n",
    "scatter(seoul_sh, seoul_sk, 'USE_AMT', 'Popul')"
   ]
  },
  {
   "cell_type": "code",
   "execution_count": null,
   "metadata": {
    "colab": {},
    "colab_type": "code",
    "id": "zwxJR-RNo0eB"
   },
   "outputs": [],
   "source": []
  }
 ],
 "metadata": {
  "colab": {
   "collapsed_sections": [],
   "name": "Correlation Analysis.ipynb",
   "provenance": []
  },
  "kernelspec": {
   "display_name": "Python 3",
   "language": "python",
   "name": "python3"
  },
  "language_info": {
   "codemirror_mode": {
    "name": "ipython",
    "version": 3
   },
   "file_extension": ".py",
   "mimetype": "text/x-python",
   "name": "python",
   "nbconvert_exporter": "python",
   "pygments_lexer": "ipython3",
   "version": "3.7.7"
  }
 },
 "nbformat": 4,
 "nbformat_minor": 1
}
