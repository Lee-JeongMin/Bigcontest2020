{
 "cells": [
  {
   "cell_type": "markdown",
   "metadata": {},
   "source": [
    "### 데이터 다운(미완성)"
   ]
  },
  {
   "cell_type": "code",
   "execution_count": null,
   "metadata": {},
   "outputs": [],
   "source": [
    "from selenium import webdriver\n",
    "import pandas as pd\n",
    "from selenium.webdriver.common.keys import Keys\n",
    "from selenium.webdriver.common.by import By\n",
    "from selenium.webdriver.support.ui import WebDriverWait\n",
    "from selenium.webdriver.support import expected_conditions as EC\n",
    "\n",
    "driver = webdriver.Chrome('./chromedriver.exe')\n",
    "\n",
    "# month = 3\n",
    "date_range = (pd.date_range(start='20200301', end='20200331')).strftime(\"%Y-%m-%d\").tolist()\n",
    "\n",
    "driver.get('https://www.bigkinds.or.kr/')\n",
    "# 공지 팝업창 삭제\n",
    "driver.find_element_by_xpath('//*[@id=\"popup-dialog-54\"]/div[2]/div/div[1]/label/input').click()\n",
    "# 로그인\n",
    "driver.find_element_by_xpath('//*[@id=\"app-top-navbar\"]/ul/li[1]/a').click()\n",
    "driver.find_element_by_xpath('//*[@id=\"login-modal\"]/div/div/div[2]/div/div[3]/a[3]').send_keys(Keys.ENTER)\n",
    "driver.find_element_by_xpath('//input[@type=\"email\"]').send_keys('leejm456@gmail.com')\n",
    "driver.find_element_by_xpath('//*[@id=\"identifierNext\"]/div/button/div[2]').click()\n",
    "\n",
    "WebDriverWait(driver, 20).until(EC.element_to_be_clickable((By.XPATH, '//input[@type=\"password\"]'))).send_keys(\"ljm6!!8@@\")\n",
    "driver.find_element_by_xpath('//input[@type=\"password\"]').send_keys(Keys.ENTER)\n",
    "driver.implicitly_wait(20) \n",
    "\n",
    "for date in date_range[:1]:\n",
    "    # 기간 입력 창 열기\n",
    "    driver.find_element_by_xpath('//*[@id=\"date-filter-btn\"]').click()\n",
    "    # 기간 입력 (왜 안지워질까?)\n",
    "    WebDriverWait(driver, 20).until(EC.element_to_be_clickable((By.XPATH, '//*[@id=\"search-begin-date\"]'))).clear()\n",
    "    WebDriverWait(driver, 20).until(EC.element_to_be_clickable((By.XPATH, '//*[@id=\"search-begin-date\"]'))).send_keys(date)\n",
    "\n",
    "    WebDriverWait(driver, 20).until(EC.element_to_be_clickable((By.XPATH, '//*[@id=\"search-end-date\"]'))).clear()\n",
    "    WebDriverWait(driver, 20).until(EC.element_to_be_clickable((By.XPATH, '//*[@id=\"search-end-date\"]'))).send_keys(date)\n",
    "    # 적용 버튼 누르기\n",
    "    driver.find_element_by_xpath('//*[@id=\"date-confirm-btn\"]').click()\n",
    "    driver.find_element_by_xpath('//*[@id=\"news-search-form\"]/div/div/div/div[1]/span/button').click()\n",
    "\n",
    "    # 분석결과 누르기\n",
    "    driver.find_element_by_xpath('//*[@id=\"headingThree\"]/h4/a').click()\n",
    "    driver.find_element_by_xpath('//*[@id=\"analytics-data-download\"]/div/div[2]/button').click()\n",
    "    driver.switch_to.alert.accept()\n",
    "driver.quit()"
   ]
  },
  {
   "cell_type": "markdown",
   "metadata": {},
   "source": [
    "### 워드클라우드"
   ]
  },
  {
   "cell_type": "code",
   "execution_count": 1,
   "metadata": {},
   "outputs": [],
   "source": [
    "import os, re\n",
    "import pandas as pd\n",
    "from soynlp.tokenizer import LTokenizer\n",
    "from wordcloud import WordCloud\n",
    "from collections import Counter\n",
    "import matplotlib.pyplot as plt\n",
    "\n",
    "def remove_stopword(title_ls):\n",
    "\n",
    "    stopword = '[^가-힣0-9\\s]'\n",
    "\n",
    "    return [re.sub(stopword, '', str(sents)) for sents in title_ls]\n",
    "\n",
    "def tokenizer(sent_ls):\n",
    "\n",
    "    token_ls = []\n",
    "    tokenizer = LTokenizer()\n",
    "    \n",
    "    for sent in sent_ls:\n",
    "        token_ls.extend(tokenizer.tokenize(sent))\n",
    "    \n",
    "    return token_ls\n",
    "\n",
    "def draw_wordcloud(token_ls):\n",
    "\n",
    "    count = Counter(token_ls)\n",
    "    words = dict(count.most_common(100))\n",
    "    \n",
    "    wordcloud = WordCloud(font_path = 'C:/Windows/Fonts/malgun.ttf', \n",
    "                    background_color='white',\n",
    "                    colormap = \"rainbow_r\").generate_from_frequencies(words) \n",
    "    plt.figure(figsize=(10, 6))\n",
    "    plt.title(os.path.splitext(file)[0].split('-')[-1], fontsize=15)\n",
    "    plt.imshow(wordcloud) \n",
    "    plt.axis('off') \n",
    "    plt.savefig('./bigkinds_wc/'+os.path.splitext(file)[0].split('-')[-1]+'_wordcloud.jpg')"
   ]
  },
  {
   "cell_type": "code",
   "execution_count": null,
   "metadata": {},
   "outputs": [],
   "source": [
    "path = './bigkinds/'\n",
    "file_list = os.listdir(path)\n",
    "\n",
    "for file in file_list:\n",
    "    excel = pd.read_excel(path+file)\n",
    "    \n",
    "    # 불용어 제거 \n",
    "    title_ls = excel['제목'].tolist()\n",
    "    sent_ls = remove_stopword(title_ls)\n",
    "\n",
    "    # 토큰화\n",
    "    token_ls = tokenizer(sent_ls)\n",
    "\n",
    "    # 필요없는 단어 삭제\n",
    "    token_ls = [token for token in token_ls  if token != '코로나']\n",
    "    token_ls = [token for token in token_ls  if token != '코로나19']\n",
    "    token_ls = [token for token in token_ls  if token != '신종코로나']\n",
    "\n",
    "    # 워드클라우드\n",
    "    draw_wordcloud(token_ls)"
   ]
  }
 ],
 "metadata": {
  "kernelspec": {
   "display_name": "Python 3",
   "language": "python",
   "name": "python3"
  },
  "language_info": {
   "codemirror_mode": {
    "name": "ipython",
    "version": 3
   },
   "file_extension": ".py",
   "mimetype": "text/x-python",
   "name": "python",
   "nbconvert_exporter": "python",
   "pygments_lexer": "ipython3",
   "version": "3.7.9"
  }
 },
 "nbformat": 4,
 "nbformat_minor": 2
}
