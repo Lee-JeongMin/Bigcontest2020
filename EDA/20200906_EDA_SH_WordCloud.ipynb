{
 "cells": [
  {
   "cell_type": "code",
   "execution_count": 6,
   "metadata": {},
   "outputs": [],
   "source": [
    "import re\n",
    "import pickle\n",
    "import numpy as np\n",
    "import pandas as pd\n",
    "import matplotlib.pyplot as plt\n",
    "import seaborn as sns\n",
    "from matplotlib import font_manager\n",
    "from matplotlib import rc\n",
    "from IPython.core.display import display, HTML, set_matplotlib_formats\n",
    "from soynlp.tokenizer import LTokenizer\n",
    "from collections import Counter\n",
    "from wordcloud import WordCloud\n",
    "from nltk.corpus import stopwords"
   ]
  },
  {
   "cell_type": "code",
   "execution_count": 7,
   "metadata": {},
   "outputs": [
    {
     "data": {
      "text/html": [
       "<style>.container { width:90% !important; }</style>"
      ],
      "text/plain": [
       "<IPython.core.display.HTML object>"
      ]
     },
     "metadata": {},
     "output_type": "display_data"
    }
   ],
   "source": [
    "# display 설정\n",
    "display(HTML(\"<style>.container { width:90% !important; }</style>\"))"
   ]
  },
  {
   "cell_type": "code",
   "execution_count": 10,
   "metadata": {},
   "outputs": [],
   "source": [
    "# 한글 폰트 설정\n",
    "path= 'c:/Windows/Fonts/malgun.ttf'\n",
    "font_name= font_manager.FontProperties(fname= path).get_name()\n",
    "plt.rcParams['font.family']= font_name\n",
    "\n",
    "# 마이너스 깨짐 설정\n",
    "import matplotlib as mpl\n",
    "\n",
    "mpl.rcParams['axes.unicode_minus'] = False\n",
    "\n",
    "# 화면 설정\n",
    "set_matplotlib_formats('retina')"
   ]
  },
  {
   "cell_type": "code",
   "execution_count": 11,
   "metadata": {},
   "outputs": [],
   "source": [
    "def title_to_word(feb):\n",
    "    title = list(feb['제목'])\n",
    "    title = [re.sub('[-=+,#/\\?:^$.@*\\\"※~&%ㆍ!』\\\\‘|\\(\\)\\[\\]\\<\\>`\\'…》]', '', str(t)) for t in title]\n",
    "    words = []\n",
    "    tokenizer = LTokenizer()\n",
    "    for t in title:\n",
    "        words.append(tokenizer.tokenize(t, flatten=False))\n",
    "    title_words = []\n",
    "    for w in words:\n",
    "        for l in range(len(w)):\n",
    "            title_words.append(w[l][0])\n",
    "    return title_words"
   ]
  },
  {
   "cell_type": "code",
   "execution_count": 17,
   "metadata": {},
   "outputs": [],
   "source": [
    "def draw_wordcloud(title_words,n):\n",
    "    count = Counter(title_words)\n",
    "    title_words_common = dict(count.most_common(200))\n",
    "    wordcloud = WordCloud(font_path = 'C:/Windows/Fonts/malgun.ttf', background_color='white',colormap = \"Accent_r\", width=1500, height=1000).generate_from_frequencies(title_words_common) \n",
    "    fig = plt.figure(figsize=(10, 10))\n",
    "    plt.imshow(wordcloud) \n",
    "    plt.axis('off') \n",
    "    \n",
    "    if len(str(n))==1:\n",
    "        fig.savefig('c:/Users/soohan/bigcontest/dataset/wordcloud/2020040'+str(n)+'.png')\n",
    "    else:\n",
    "        fig.savefig('c:/Users/soohan/bigcontest/dataset/wordcloud/202004'+str(n)+'.png')\n",
    "    plt.show()"
   ]
  },
  {
   "cell_type": "code",
   "execution_count": null,
   "metadata": {},
   "outputs": [],
   "source": [
    "nn = np.arange(1,30)\n",
    "for n in nn:\n",
    "    if len(str(n))==1:\n",
    "        apr = pd.read_excel('c:/Users/soohan/bigcontest/dataset/wordcloud/2020040'+str(n)+'.png')\n",
    "    else:\n",
    "        apr = pd.read_excel('c:/Users/soohan/bigcontest/dataset/wordcloud/202004'+str(n)+'.png')\n",
    "    title_words = title_to_word(apr)\n",
    "    draw_wordcloud(title_words,n)"
   ]
  }
 ],
 "metadata": {
  "kernelspec": {
   "display_name": "Python 3",
   "language": "python",
   "name": "python3"
  },
  "language_info": {
   "codemirror_mode": {
    "name": "ipython",
    "version": 3
   },
   "file_extension": ".py",
   "mimetype": "text/x-python",
   "name": "python",
   "nbconvert_exporter": "python",
   "pygments_lexer": "ipython3",
   "version": "3.7.7"
  }
 },
 "nbformat": 4,
 "nbformat_minor": 4
}
